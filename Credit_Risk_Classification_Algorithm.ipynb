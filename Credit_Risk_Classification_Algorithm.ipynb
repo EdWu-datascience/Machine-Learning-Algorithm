{
  "nbformat": 4,
  "nbformat_minor": 0,
  "metadata": {
    "colab": {
      "name": "Credit Risk Classification Algorithm.ipynb",
      "provenance": [],
      "toc_visible": true,
      "mount_file_id": "1nCxfNN37CcsWndtNn4Tk40zB5WJosBAe",
      "authorship_tag": "ABX9TyNZPqV7+bdCzRpTAQvx7487",
      "include_colab_link": true
    },
    "kernelspec": {
      "name": "python3",
      "display_name": "Python 3"
    },
    "language_info": {
      "name": "python"
    }
  },
  "cells": [
    {
      "cell_type": "markdown",
      "metadata": {
        "id": "view-in-github",
        "colab_type": "text"
      },
      "source": [
        "<a href=\"https://colab.research.google.com/github/EdWu-datascience/Machine-Learning-Algorithm/blob/main/Credit_Risk_Classification_Algorithm.ipynb\" target=\"_parent\"><img src=\"https://colab.research.google.com/assets/colab-badge.svg\" alt=\"Open In Colab\"/></a>"
      ]
    },
    {
      "cell_type": "markdown",
      "metadata": {
        "id": "Q-iLNYjjJhim"
      },
      "source": [
        "**Data scource**\n",
        "\n",
        "https://www.kaggle.com/praveengovi/credit-risk-classification-dataset\n",
        "\n",
        "This dataset holds customer transaction and demographic related data,it's posted on kaggle by Praveen."
      ]
    },
    {
      "cell_type": "markdown",
      "metadata": {
        "id": "xb9lMXnW6CT4"
      },
      "source": [
        "# Data Description(customer_data)\n",
        "label is 1, the customer is in high credit risk\n",
        "\n",
        "label is 0, the customer is in low credit risk"
      ]
    },
    {
      "cell_type": "markdown",
      "metadata": {
        "id": "f4Wa2dV6ie2T"
      },
      "source": [
        "# Data Description(payment_data)\n",
        "id: customer id\n",
        "\n",
        "OVD_ti:number of times overdue typei(three types of overdue)\n",
        "\n",
        "OVD_sum:total overdue days\n",
        "\n",
        "paynormal:number of times normal payment\n",
        "\n",
        "prodcode: credit product code \n",
        "\n",
        "prodlimit: credit limit of product.\n",
        "\n",
        "updatedate: account update date \n",
        "\n",
        "newbalance: current balance of product.\n",
        "\n",
        "highestbalance:highest balance in history \n",
        "\n",
        "reportdate: date of recent payment"
      ]
    },
    {
      "cell_type": "code",
      "metadata": {
        "colab": {
          "base_uri": "https://localhost:8080/"
        },
        "id": "v-WodrNIa_Yc",
        "outputId": "41262e48-d183-4eab-9376-a8d4ce262ebb"
      },
      "source": [
        "from google.colab import drive\n",
        "drive.mount('/content/drive')"
      ],
      "execution_count": null,
      "outputs": [
        {
          "output_type": "stream",
          "name": "stdout",
          "text": [
            "Drive already mounted at /content/drive; to attempt to forcibly remount, call drive.mount(\"/content/drive\", force_remount=True).\n"
          ]
        }
      ]
    },
    {
      "cell_type": "code",
      "metadata": {
        "id": "qfGWuQ3_cC3j",
        "colab": {
          "resources": {
            "http://localhost:8080/nbextensions/google.colab/files.js": {
              "data": "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",
              "ok": true,
              "headers": [
                [
                  "content-type",
                  "application/javascript"
                ]
              ],
              "status": 200,
              "status_text": ""
            }
          },
          "base_uri": "https://localhost:8080/",
          "height": 94
        },
        "outputId": "a5b0d533-bcbe-4de3-ce78-c99252aa5882"
      },
      "source": [
        "from google.colab import files\n",
        "files.upload()"
      ],
      "execution_count": null,
      "outputs": [
        {
          "output_type": "display_data",
          "data": {
            "text/html": [
              "\n",
              "     <input type=\"file\" id=\"files-b7897f2c-195f-440f-ab4f-1c945756331f\" name=\"files[]\" multiple disabled\n",
              "        style=\"border:none\" />\n",
              "     <output id=\"result-b7897f2c-195f-440f-ab4f-1c945756331f\">\n",
              "      Upload widget is only available when the cell has been executed in the\n",
              "      current browser session. Please rerun this cell to enable.\n",
              "      </output>\n",
              "      <script src=\"/nbextensions/google.colab/files.js\"></script> "
            ],
            "text/plain": [
              "<IPython.core.display.HTML object>"
            ]
          },
          "metadata": {}
        },
        {
          "output_type": "stream",
          "name": "stdout",
          "text": [
            "Saving kaggle.json to kaggle.json\n"
          ]
        },
        {
          "output_type": "execute_result",
          "data": {
            "text/plain": [
              "{'kaggle.json': b'{\"username\":\"sidwuu\",\"key\":\"9467c5281cb379293d7cc808a346a65e\"}'}"
            ]
          },
          "metadata": {},
          "execution_count": 4
        }
      ]
    },
    {
      "cell_type": "code",
      "metadata": {
        "id": "6TGZ1OiwcJsf"
      },
      "source": [
        "!pip install -q kaggle\n",
        "!mkdir -p ~/.kaggle\n",
        "!cp kaggle.json ~/.kaggle/\n",
        "!chmod 600 ~/.kaggle/kaggle.json"
      ],
      "execution_count": null,
      "outputs": []
    },
    {
      "cell_type": "code",
      "metadata": {
        "colab": {
          "base_uri": "https://localhost:8080/"
        },
        "id": "7iGy3fFicMA2",
        "outputId": "274bc5f6-05f8-4549-994e-8741012ee8db"
      },
      "source": [
        "!kaggle datasets list"
      ],
      "execution_count": null,
      "outputs": [
        {
          "output_type": "stream",
          "name": "stdout",
          "text": [
            "Warning: Looks like you're using an outdated API Version, please consider updating (server 1.5.12 / client 1.5.4)\n",
            "ref                                                         title                                              size  lastUpdated          downloadCount  \n",
            "----------------------------------------------------------  ------------------------------------------------  -----  -------------------  -------------  \n",
            "gpreda/reddit-vaccine-myths                                 Reddit Vaccine Myths                              233KB  2021-08-31 12:40:41          11453  \n",
            "crowww/a-large-scale-fish-dataset                           A Large Scale Fish Dataset                          3GB  2021-04-28 17:03:01           6954  \n",
            "imsparsh/musicnet-dataset                                   MusicNet Dataset                                   22GB  2021-02-18 14:12:19           2699  \n",
            "promptcloud/careerbuilder-job-listing-2020                  Careerbuilder Job Listing 2020                     42MB  2021-03-05 06:59:52           1755  \n",
            "dhruvildave/wikibooks-dataset                               Wikibooks Dataset                                   2GB  2021-07-03 18:37:20           2766  \n",
            "fatiimaezzahra/famous-iconic-women                          Famous Iconic Women                               838MB  2021-02-28 14:56:00           1210  \n",
            "nickuzmenkov/nih-chest-xrays-tfrecords                      NIH Chest X-rays TFRecords                         11GB  2021-03-09 04:49:23           1031  \n",
            "mathurinache/twitter-edge-nodes                             Twitter Edge Nodes                                342MB  2021-03-08 06:43:04            846  \n",
            "alsgroup/end-als                                            End ALS Kaggle Challenge                           12GB  2021-04-08 12:16:37            857  \n",
            "coloradokb/dandelionimages                                  DandelionImages                                     4GB  2021-02-19 20:03:47            751  \n",
            "simiotic/github-code-snippets                               GitHub Code Snippets                                7GB  2021-03-03 11:34:39            305  \n",
            "stuartjames/lights                                          LightS: Light Specularity Dataset                  18GB  2021-02-18 14:32:26            132  \n",
            "mathurinache/the-lj-speech-dataset                          The LJ Speech Dataset                               3GB  2021-02-15 09:19:54            308  \n",
            "landrykezebou/lvzhdr-tone-mapping-benchmark-dataset-tmonet  LVZ-HDR Tone Mapping Benchmark Dataset (TMO-Net)   24GB  2021-03-01 05:03:40            178  \n",
            "imsparsh/accentdb-core-extended                             AccentDB - Core & Extended                          6GB  2021-02-17 14:22:54            137  \n",
            "nickuzmenkov/ranzcr-clip-kfold-tfrecords                    RANZCR CLiP KFold TFRecords                         2GB  2021-02-21 13:29:51            126  \n",
            "datasnaek/youtube-new                                       Trending YouTube Video Statistics                 201MB  2019-06-03 00:56:47         147601  \n",
            "zynicide/wine-reviews                                       Wine Reviews                                       51MB  2017-11-27 17:08:04         142851  \n",
            "residentmario/ramen-ratings                                 Ramen Ratings                                      40KB  2018-01-11 16:04:39          26265  \n",
            "datasnaek/chess                                             Chess Game Dataset (Lichess)                        3MB  2017-09-04 03:09:09          21193  \n"
          ]
        }
      ]
    },
    {
      "cell_type": "code",
      "metadata": {
        "colab": {
          "base_uri": "https://localhost:8080/"
        },
        "id": "JISzwySPcuWk",
        "outputId": "e80216cd-742d-4387-ad17-1e02ae877770"
      },
      "source": [
        "!kaggle datasets download -d praveengovi/credit-risk-classification-dataset"
      ],
      "execution_count": null,
      "outputs": [
        {
          "output_type": "stream",
          "name": "stdout",
          "text": [
            "Downloading credit-risk-classification-dataset.zip to /content\n",
            "\r  0% 0.00/148k [00:00<?, ?B/s]\n",
            "\r100% 148k/148k [00:00<00:00, 56.7MB/s]\n"
          ]
        }
      ]
    },
    {
      "cell_type": "code",
      "metadata": {
        "id": "94vjyKIkd36l"
      },
      "source": [
        "import zipfile\n",
        "import pandas as pd\n",
        "zip_file = zipfile.ZipFile('credit-risk-classification-dataset.zip')\n",
        "customer_data = pd.read_csv(zip_file.open('customer_data.csv'))\n",
        "payment_data = pd.read_csv(zip_file.open('payment_data.csv'))\n",
        "\n"
      ],
      "execution_count": null,
      "outputs": []
    },
    {
      "cell_type": "code",
      "metadata": {
        "colab": {
          "base_uri": "https://localhost:8080/",
          "height": 206
        },
        "id": "4h3YFvIQOGXm",
        "outputId": "7856d97b-0286-49b9-9487-e14662725b0c"
      },
      "source": [
        "customer_data.head(5)"
      ],
      "execution_count": null,
      "outputs": [
        {
          "output_type": "execute_result",
          "data": {
            "text/html": [
              "<div>\n",
              "<style scoped>\n",
              "    .dataframe tbody tr th:only-of-type {\n",
              "        vertical-align: middle;\n",
              "    }\n",
              "\n",
              "    .dataframe tbody tr th {\n",
              "        vertical-align: top;\n",
              "    }\n",
              "\n",
              "    .dataframe thead th {\n",
              "        text-align: right;\n",
              "    }\n",
              "</style>\n",
              "<table border=\"1\" class=\"dataframe\">\n",
              "  <thead>\n",
              "    <tr style=\"text-align: right;\">\n",
              "      <th></th>\n",
              "      <th>label</th>\n",
              "      <th>id</th>\n",
              "      <th>fea_1</th>\n",
              "      <th>fea_2</th>\n",
              "      <th>fea_3</th>\n",
              "      <th>fea_4</th>\n",
              "      <th>fea_5</th>\n",
              "      <th>fea_6</th>\n",
              "      <th>fea_7</th>\n",
              "      <th>fea_8</th>\n",
              "      <th>fea_9</th>\n",
              "      <th>fea_10</th>\n",
              "      <th>fea_11</th>\n",
              "    </tr>\n",
              "  </thead>\n",
              "  <tbody>\n",
              "    <tr>\n",
              "      <th>0</th>\n",
              "      <td>1</td>\n",
              "      <td>54982665</td>\n",
              "      <td>5</td>\n",
              "      <td>1245.5</td>\n",
              "      <td>3</td>\n",
              "      <td>77000.0</td>\n",
              "      <td>2</td>\n",
              "      <td>15</td>\n",
              "      <td>5</td>\n",
              "      <td>109</td>\n",
              "      <td>5</td>\n",
              "      <td>151300</td>\n",
              "      <td>244.948974</td>\n",
              "    </tr>\n",
              "    <tr>\n",
              "      <th>1</th>\n",
              "      <td>0</td>\n",
              "      <td>59004779</td>\n",
              "      <td>4</td>\n",
              "      <td>1277.0</td>\n",
              "      <td>1</td>\n",
              "      <td>113000.0</td>\n",
              "      <td>2</td>\n",
              "      <td>8</td>\n",
              "      <td>-1</td>\n",
              "      <td>100</td>\n",
              "      <td>3</td>\n",
              "      <td>341759</td>\n",
              "      <td>207.173840</td>\n",
              "    </tr>\n",
              "    <tr>\n",
              "      <th>2</th>\n",
              "      <td>0</td>\n",
              "      <td>58990862</td>\n",
              "      <td>7</td>\n",
              "      <td>1298.0</td>\n",
              "      <td>1</td>\n",
              "      <td>110000.0</td>\n",
              "      <td>2</td>\n",
              "      <td>11</td>\n",
              "      <td>-1</td>\n",
              "      <td>101</td>\n",
              "      <td>5</td>\n",
              "      <td>72001</td>\n",
              "      <td>1.000000</td>\n",
              "    </tr>\n",
              "    <tr>\n",
              "      <th>3</th>\n",
              "      <td>1</td>\n",
              "      <td>58995168</td>\n",
              "      <td>7</td>\n",
              "      <td>1335.5</td>\n",
              "      <td>1</td>\n",
              "      <td>151000.0</td>\n",
              "      <td>2</td>\n",
              "      <td>11</td>\n",
              "      <td>5</td>\n",
              "      <td>110</td>\n",
              "      <td>3</td>\n",
              "      <td>60084</td>\n",
              "      <td>1.000000</td>\n",
              "    </tr>\n",
              "    <tr>\n",
              "      <th>4</th>\n",
              "      <td>0</td>\n",
              "      <td>54987320</td>\n",
              "      <td>7</td>\n",
              "      <td>NaN</td>\n",
              "      <td>2</td>\n",
              "      <td>59000.0</td>\n",
              "      <td>2</td>\n",
              "      <td>11</td>\n",
              "      <td>5</td>\n",
              "      <td>108</td>\n",
              "      <td>4</td>\n",
              "      <td>450081</td>\n",
              "      <td>197.403141</td>\n",
              "    </tr>\n",
              "  </tbody>\n",
              "</table>\n",
              "</div>"
            ],
            "text/plain": [
              "   label        id  fea_1   fea_2  ...  fea_8  fea_9  fea_10      fea_11\n",
              "0      1  54982665      5  1245.5  ...    109      5  151300  244.948974\n",
              "1      0  59004779      4  1277.0  ...    100      3  341759  207.173840\n",
              "2      0  58990862      7  1298.0  ...    101      5   72001    1.000000\n",
              "3      1  58995168      7  1335.5  ...    110      3   60084    1.000000\n",
              "4      0  54987320      7     NaN  ...    108      4  450081  197.403141\n",
              "\n",
              "[5 rows x 13 columns]"
            ]
          },
          "metadata": {},
          "execution_count": 11
        }
      ]
    },
    {
      "cell_type": "code",
      "metadata": {
        "id": "UFrIKwVaPu1G"
      },
      "source": [
        "#merage customer_data and payment_data two datasets\n",
        "import pandas as pd\n",
        "merge_data=pd.merge(customer_data,payment_data,how='left',on='id')"
      ],
      "execution_count": 29,
      "outputs": []
    },
    {
      "cell_type": "code",
      "metadata": {
        "colab": {
          "base_uri": "https://localhost:8080/"
        },
        "id": "tuPBO8UaOLgd",
        "outputId": "7791faf4-9d01-4880-e0e3-4bb823408a7b"
      },
      "source": [
        "#some basic checks on merged dataset\n",
        "print(merge_data.shape)\n",
        "print(merge_data.columns.values)\n",
        "merge_data.info()\n"
      ],
      "execution_count": 33,
      "outputs": [
        {
          "output_type": "stream",
          "name": "stdout",
          "text": [
            "(8250, 24)\n",
            "['label' 'id' 'fea_1' 'fea_2' 'fea_3' 'fea_4' 'fea_5' 'fea_6' 'fea_7'\n",
            " 'fea_8' 'fea_9' 'fea_10' 'fea_11' 'OVD_t1' 'OVD_t2' 'OVD_t3' 'OVD_sum'\n",
            " 'pay_normal' 'prod_code' 'prod_limit' 'update_date' 'new_balance'\n",
            " 'highest_balance' 'report_date']\n",
            "<class 'pandas.core.frame.DataFrame'>\n",
            "Int64Index: 8250 entries, 0 to 8249\n",
            "Data columns (total 24 columns):\n",
            " #   Column           Non-Null Count  Dtype  \n",
            "---  ------           --------------  -----  \n",
            " 0   label            8250 non-null   int64  \n",
            " 1   id               8250 non-null   int64  \n",
            " 2   fea_1            8250 non-null   int64  \n",
            " 3   fea_2            7222 non-null   float64\n",
            " 4   fea_3            8250 non-null   int64  \n",
            " 5   fea_4            8250 non-null   float64\n",
            " 6   fea_5            8250 non-null   int64  \n",
            " 7   fea_6            8250 non-null   int64  \n",
            " 8   fea_7            8250 non-null   int64  \n",
            " 9   fea_8            8250 non-null   int64  \n",
            " 10  fea_9            8250 non-null   int64  \n",
            " 11  fea_10           8250 non-null   int64  \n",
            " 12  fea_11           8250 non-null   float64\n",
            " 13  OVD_t1           8250 non-null   int64  \n",
            " 14  OVD_t2           8250 non-null   int64  \n",
            " 15  OVD_t3           8250 non-null   int64  \n",
            " 16  OVD_sum          8250 non-null   int64  \n",
            " 17  pay_normal       8250 non-null   int64  \n",
            " 18  prod_code        8250 non-null   int64  \n",
            " 19  prod_limit       2132 non-null   float64\n",
            " 20  update_date      8224 non-null   object \n",
            " 21  new_balance      8250 non-null   float64\n",
            " 22  highest_balance  7841 non-null   float64\n",
            " 23  report_date      7136 non-null   object \n",
            "dtypes: float64(6), int64(16), object(2)\n",
            "memory usage: 1.6+ MB\n"
          ]
        }
      ]
    },
    {
      "cell_type": "markdown",
      "metadata": {
        "id": "yeUcu6nhSEFD"
      },
      "source": [
        "for columns like report_date,update_date,these columns has little impact on our classfication,so we're going to omit these columns in our classfication,besides,column prod_limit has too many null values(around 6000 out of 8250),so we need to do some process on this column"
      ]
    },
    {
      "cell_type": "code",
      "metadata": {
        "id": "BtNj4c8VTkYj"
      },
      "source": [
        "#process on column prod_limit\n",
        "#we are going to replace the null value by the mean value in column prod_limit\n",
        "import numpy as np\n",
        "from sklearn.impute import SimpleImputer\n",
        "nan_model=SimpleImputer(missing_values=np.nan,strategy='mean')\n",
        "nan_result=pd.DataFrame(nan_model.fit_transform(merge_data[['prod_limit']]))"
      ],
      "execution_count": 62,
      "outputs": []
    },
    {
      "cell_type": "code",
      "metadata": {
        "colab": {
          "base_uri": "https://localhost:8080/",
          "height": 226
        },
        "id": "Oc-ipSsmWdC_",
        "outputId": "594d543c-72d2-4a33-d389-b3379d2bbc55"
      },
      "source": [
        "merge_data['prod_limit']=nan_result[0]\n",
        "#then we need to delete the null values from dataset\n",
        "merge_data.dropna(inplace=True)\n",
        "merge_data.reset_index(inplace=True)\n",
        "merge_data.head(5)\n"
      ],
      "execution_count": 78,
      "outputs": [
        {
          "output_type": "execute_result",
          "data": {
            "text/html": [
              "<div>\n",
              "<style scoped>\n",
              "    .dataframe tbody tr th:only-of-type {\n",
              "        vertical-align: middle;\n",
              "    }\n",
              "\n",
              "    .dataframe tbody tr th {\n",
              "        vertical-align: top;\n",
              "    }\n",
              "\n",
              "    .dataframe thead th {\n",
              "        text-align: right;\n",
              "    }\n",
              "</style>\n",
              "<table border=\"1\" class=\"dataframe\">\n",
              "  <thead>\n",
              "    <tr style=\"text-align: right;\">\n",
              "      <th></th>\n",
              "      <th>index</th>\n",
              "      <th>label</th>\n",
              "      <th>id</th>\n",
              "      <th>fea_1</th>\n",
              "      <th>fea_2</th>\n",
              "      <th>fea_3</th>\n",
              "      <th>fea_4</th>\n",
              "      <th>fea_5</th>\n",
              "      <th>fea_6</th>\n",
              "      <th>fea_7</th>\n",
              "      <th>fea_8</th>\n",
              "      <th>fea_9</th>\n",
              "      <th>fea_10</th>\n",
              "      <th>fea_11</th>\n",
              "      <th>OVD_t1</th>\n",
              "      <th>OVD_t2</th>\n",
              "      <th>OVD_t3</th>\n",
              "      <th>OVD_sum</th>\n",
              "      <th>pay_normal</th>\n",
              "      <th>prod_code</th>\n",
              "      <th>prod_limit</th>\n",
              "      <th>update_date</th>\n",
              "      <th>new_balance</th>\n",
              "      <th>highest_balance</th>\n",
              "      <th>report_date</th>\n",
              "    </tr>\n",
              "  </thead>\n",
              "  <tbody>\n",
              "    <tr>\n",
              "      <th>0</th>\n",
              "      <td>0</td>\n",
              "      <td>1</td>\n",
              "      <td>54982665</td>\n",
              "      <td>5</td>\n",
              "      <td>1245.5</td>\n",
              "      <td>3</td>\n",
              "      <td>77000.0</td>\n",
              "      <td>2</td>\n",
              "      <td>15</td>\n",
              "      <td>5</td>\n",
              "      <td>109</td>\n",
              "      <td>5</td>\n",
              "      <td>151300</td>\n",
              "      <td>244.948974</td>\n",
              "      <td>0</td>\n",
              "      <td>0</td>\n",
              "      <td>0</td>\n",
              "      <td>0</td>\n",
              "      <td>9</td>\n",
              "      <td>10</td>\n",
              "      <td>60500.000000</td>\n",
              "      <td>31/01/2015</td>\n",
              "      <td>6657.6</td>\n",
              "      <td>18934.0</td>\n",
              "      <td>19/09/2015</td>\n",
              "    </tr>\n",
              "    <tr>\n",
              "      <th>1</th>\n",
              "      <td>1</td>\n",
              "      <td>1</td>\n",
              "      <td>54982665</td>\n",
              "      <td>5</td>\n",
              "      <td>1245.5</td>\n",
              "      <td>3</td>\n",
              "      <td>77000.0</td>\n",
              "      <td>2</td>\n",
              "      <td>15</td>\n",
              "      <td>5</td>\n",
              "      <td>109</td>\n",
              "      <td>5</td>\n",
              "      <td>151300</td>\n",
              "      <td>244.948974</td>\n",
              "      <td>0</td>\n",
              "      <td>0</td>\n",
              "      <td>0</td>\n",
              "      <td>0</td>\n",
              "      <td>18</td>\n",
              "      <td>10</td>\n",
              "      <td>85789.702205</td>\n",
              "      <td>28/04/2009</td>\n",
              "      <td>153792.0</td>\n",
              "      <td>149387.0</td>\n",
              "      <td>10/08/2015</td>\n",
              "    </tr>\n",
              "    <tr>\n",
              "      <th>2</th>\n",
              "      <td>3</td>\n",
              "      <td>1</td>\n",
              "      <td>54982665</td>\n",
              "      <td>5</td>\n",
              "      <td>1245.5</td>\n",
              "      <td>3</td>\n",
              "      <td>77000.0</td>\n",
              "      <td>2</td>\n",
              "      <td>15</td>\n",
              "      <td>5</td>\n",
              "      <td>109</td>\n",
              "      <td>5</td>\n",
              "      <td>151300</td>\n",
              "      <td>244.948974</td>\n",
              "      <td>0</td>\n",
              "      <td>2</td>\n",
              "      <td>26</td>\n",
              "      <td>11906</td>\n",
              "      <td>6</td>\n",
              "      <td>10</td>\n",
              "      <td>85789.702205</td>\n",
              "      <td>17/05/2007</td>\n",
              "      <td>0.0</td>\n",
              "      <td>46371.0</td>\n",
              "      <td>12/07/2013</td>\n",
              "    </tr>\n",
              "    <tr>\n",
              "      <th>3</th>\n",
              "      <td>4</td>\n",
              "      <td>0</td>\n",
              "      <td>59004779</td>\n",
              "      <td>4</td>\n",
              "      <td>1277.0</td>\n",
              "      <td>1</td>\n",
              "      <td>113000.0</td>\n",
              "      <td>2</td>\n",
              "      <td>8</td>\n",
              "      <td>-1</td>\n",
              "      <td>100</td>\n",
              "      <td>3</td>\n",
              "      <td>341759</td>\n",
              "      <td>207.173840</td>\n",
              "      <td>0</td>\n",
              "      <td>0</td>\n",
              "      <td>0</td>\n",
              "      <td>0</td>\n",
              "      <td>4</td>\n",
              "      <td>6</td>\n",
              "      <td>85789.702205</td>\n",
              "      <td>02/06/2016</td>\n",
              "      <td>15120.0</td>\n",
              "      <td>21500.0</td>\n",
              "      <td>19/04/2016</td>\n",
              "    </tr>\n",
              "    <tr>\n",
              "      <th>4</th>\n",
              "      <td>5</td>\n",
              "      <td>0</td>\n",
              "      <td>59004779</td>\n",
              "      <td>4</td>\n",
              "      <td>1277.0</td>\n",
              "      <td>1</td>\n",
              "      <td>113000.0</td>\n",
              "      <td>2</td>\n",
              "      <td>8</td>\n",
              "      <td>-1</td>\n",
              "      <td>100</td>\n",
              "      <td>3</td>\n",
              "      <td>341759</td>\n",
              "      <td>207.173840</td>\n",
              "      <td>0</td>\n",
              "      <td>0</td>\n",
              "      <td>0</td>\n",
              "      <td>0</td>\n",
              "      <td>5</td>\n",
              "      <td>6</td>\n",
              "      <td>85789.702205</td>\n",
              "      <td>17/12/2015</td>\n",
              "      <td>5596.8</td>\n",
              "      <td>14500.0</td>\n",
              "      <td>19/04/2016</td>\n",
              "    </tr>\n",
              "  </tbody>\n",
              "</table>\n",
              "</div>"
            ],
            "text/plain": [
              "   index  label        id  ...  new_balance  highest_balance  report_date\n",
              "0      0      1  54982665  ...       6657.6          18934.0   19/09/2015\n",
              "1      1      1  54982665  ...     153792.0         149387.0   10/08/2015\n",
              "2      3      1  54982665  ...          0.0          46371.0   12/07/2013\n",
              "3      4      0  59004779  ...      15120.0          21500.0   19/04/2016\n",
              "4      5      0  59004779  ...       5596.8          14500.0   19/04/2016\n",
              "\n",
              "[5 rows x 25 columns]"
            ]
          },
          "metadata": {},
          "execution_count": 78
        }
      ]
    },
    {
      "cell_type": "code",
      "metadata": {
        "id": "mcee2wgGVMkN"
      },
      "source": [
        "merge_data.info()"
      ],
      "execution_count": null,
      "outputs": []
    },
    {
      "cell_type": "code",
      "metadata": {
        "colab": {
          "base_uri": "https://localhost:8080/"
        },
        "id": "2L0C_IPXeAWw",
        "outputId": "73801aab-1ac8-4123-d8cc-ddc67bca48c1"
      },
      "source": [
        "#number of rows with label == 1\n",
        "print(merge_data[merge_data['label']==1].shape[0])\n",
        "#number of rows with label == 0\n",
        "print(merge_data[merge_data['label']==0].shape[0])\n",
        "merge_data.columns.values"
      ],
      "execution_count": 94,
      "outputs": [
        {
          "output_type": "stream",
          "name": "stdout",
          "text": [
            "992\n",
            "5124\n"
          ]
        },
        {
          "output_type": "execute_result",
          "data": {
            "text/plain": [
              "array(['index', 'label', 'id', 'fea_1', 'fea_2', 'fea_3', 'fea_4',\n",
              "       'fea_5', 'fea_6', 'fea_7', 'fea_8', 'fea_9', 'fea_10', 'fea_11',\n",
              "       'OVD_t1', 'OVD_t2', 'OVD_t3', 'OVD_sum', 'pay_normal', 'prod_code',\n",
              "       'prod_limit', 'update_date', 'new_balance', 'highest_balance',\n",
              "       'report_date'], dtype=object)"
            ]
          },
          "metadata": {},
          "execution_count": 94
        }
      ]
    },
    {
      "cell_type": "code",
      "metadata": {
        "id": "w1VWu3pUhgh7"
      },
      "source": [
        "#create the train test dataset\n",
        "X=merge_data[[]]\n",
        "x_value=['fea_1', 'fea_2', 'fea_3', 'fea_4',\n",
        "       'fea_5', 'fea_6', 'fea_7', 'fea_8', 'fea_9', 'fea_10', 'fea_11',\n",
        "       'OVD_t1', 'OVD_t2', 'OVD_t3', 'OVD_sum', 'pay_normal', 'prod_code',\n",
        "       'prod_limit','new_balance', 'highest_balance']\n",
        "X=merge_data[x_value]\n",
        "y=merge_data['label']\n",
        "from sklearn.model_selection import train_test_split\n",
        "#default 75% train data and 25% test data\n",
        "X_train,X_test,y_train,y_test=train_test_split(X,y,random_state=0)"
      ],
      "execution_count": 99,
      "outputs": []
    },
    {
      "cell_type": "code",
      "metadata": {
        "id": "Mwz8rHUJjInP"
      },
      "source": [
        "from sklearn.neighbors import KNeighborsClassifier\n",
        "knn=KNeighborsClassifier(n_neighbors=5)"
      ],
      "execution_count": 100,
      "outputs": []
    },
    {
      "cell_type": "code",
      "metadata": {
        "colab": {
          "base_uri": "https://localhost:8080/"
        },
        "id": "47bMFiLljaVp",
        "outputId": "ea60b9ec-9608-42d2-eb4b-26305e06912c"
      },
      "source": [
        "knn.fit(X_train,y_train)\n"
      ],
      "execution_count": 101,
      "outputs": [
        {
          "output_type": "execute_result",
          "data": {
            "text/plain": [
              "KNeighborsClassifier(algorithm='auto', leaf_size=30, metric='minkowski',\n",
              "                     metric_params=None, n_jobs=None, n_neighbors=5, p=2,\n",
              "                     weights='uniform')"
            ]
          },
          "metadata": {},
          "execution_count": 101
        }
      ]
    },
    {
      "cell_type": "code",
      "metadata": {
        "colab": {
          "base_uri": "https://localhost:8080/"
        },
        "id": "5bjAhDjMjhuG",
        "outputId": "2edd00bc-7d80-4ea5-a0dd-151d0cea9d44"
      },
      "source": [
        "knn.score(X_test,y_test)"
      ],
      "execution_count": 102,
      "outputs": [
        {
          "output_type": "execute_result",
          "data": {
            "text/plain": [
              "0.8273381294964028"
            ]
          },
          "metadata": {},
          "execution_count": 102
        }
      ]
    },
    {
      "cell_type": "markdown",
      "metadata": {
        "id": "fTImTdhDkBVc"
      },
      "source": [
        "**different k value will lead to different accuracy of the model**"
      ]
    },
    {
      "cell_type": "code",
      "metadata": {
        "id": "L4M4kk1hkJLr"
      },
      "source": [
        "scores=[]\n",
        "for k in range(1,20):\n",
        "  knn=KNeighborsClassifier(n_neighbors=k)\n",
        "  knn.fit(X_train,y_train)\n",
        "  scores.append(knn.score(X_test,y_test))\n"
      ],
      "execution_count": 122,
      "outputs": []
    },
    {
      "cell_type": "code",
      "metadata": {
        "colab": {
          "base_uri": "https://localhost:8080/",
          "height": 808
        },
        "id": "PD_eCJjBkpF3",
        "outputId": "a2244eca-58e3-4983-a7bb-1a6ab6700c6b"
      },
      "source": [
        "import matplotlib.pyplot as plt\n",
        "k_range=range(1,20)\n",
        "plt.figure(figsize=(12,12))\n",
        "plt.xlabel='k'\n",
        "plt.ylabel='score'\n",
        "plt.title='the relationship bewteen k value and the accuracy of model'\n",
        "plt.scatter(k_range,scores)\n",
        "plt.xticks([0,5,10,15,20])"
      ],
      "execution_count": 123,
      "outputs": [
        {
          "output_type": "execute_result",
          "data": {
            "text/plain": [
              "([<matplotlib.axis.XTick at 0x7fea13de0350>,\n",
              "  <matplotlib.axis.XTick at 0x7fea13de0050>,\n",
              "  <matplotlib.axis.XTick at 0x7fea13f37150>,\n",
              "  <matplotlib.axis.XTick at 0x7fea13ce9490>,\n",
              "  <matplotlib.axis.XTick at 0x7fea13d2f410>],\n",
              " <a list of 5 Text major ticklabel objects>)"
            ]
          },
          "metadata": {},
          "execution_count": 123
        },
        {
          "output_type": "display_data",
          "data": {
            "image/png": "[encoded data removed]",
            "text/plain": [
              "<Figure size 864x864 with 1 Axes>"
            ]
          },
          "metadata": {
            "needs_background": "light"
          }
        }
      ]
    },
    {
      "cell_type": "markdown",
      "metadata": {
        "id": "z9pclf6fmDqD"
      },
      "source": [
        "it seems better if we choose k equal 10\n",
        "\n",
        "do a feature scaling check if it will make a difference to the result"
      ]
    },
    {
      "cell_type": "code",
      "metadata": {
        "id": "oTppG5eun8p2"
      },
      "source": [
        "from sklearn.preprocessing import MinMaxScaler\n",
        "scalar = MinMaxScaler()\n",
        "X_train_scaled = scalar.fit_transform(X_train)\n",
        "X_test_scaled = scalar.fit_transform(X_test)\n"
      ],
      "execution_count": 115,
      "outputs": []
    },
    {
      "cell_type": "code",
      "metadata": {
        "id": "MP9IJe2EpKzC"
      },
      "source": [
        "scores_scaled=[]\n",
        "for k in range(1,20):\n",
        "  knn=KNeighborsClassifier(n_neighbors=k)\n",
        "  knn.fit(X_train_scaled,y_train)\n",
        "  scores_scaled.append(knn.score(X_test_scaled,y_test))"
      ],
      "execution_count": 120,
      "outputs": []
    },
    {
      "cell_type": "code",
      "metadata": {
        "colab": {
          "base_uri": "https://localhost:8080/",
          "height": 373
        },
        "id": "-e06M5skqTmb",
        "outputId": "4988811e-8afd-458c-c1af-0e295115a86a"
      },
      "source": [
        "k_range=range(1,20)\n",
        "plt.figure()\n",
        "plt.xlabel='k'\n",
        "plt.ylabel='score'\n",
        "plt.title='the relationship bewteen k value and the accuracy of model'\n",
        "plt.scatter(k_range,scores_scaled)\n",
        "plt.xticks([0,5,10,15,20])"
      ],
      "execution_count": 126,
      "outputs": [
        {
          "output_type": "execute_result",
          "data": {
            "text/plain": [
              "([<matplotlib.axis.XTick at 0x7fea13bb0c50>,\n",
              "  <matplotlib.axis.XTick at 0x7fea13b0f950>,\n",
              "  <matplotlib.axis.XTick at 0x7fea13b0fb90>,\n",
              "  <matplotlib.axis.XTick at 0x7fea13b2b210>,\n",
              "  <matplotlib.axis.XTick at 0x7fea13b2b710>],\n",
              " <a list of 5 Text major ticklabel objects>)"
            ]
          },
          "metadata": {},
          "execution_count": 126
        },
        {
          "output_type": "display_data",
          "data": {
            "image/png": "[encoded data removed]",
            "text/plain": [
              "<Figure size 432x288 with 1 Axes>"
            ]
          },
          "metadata": {
            "needs_background": "light"
          }
        }
      ]
    },
    {
      "cell_type": "code",
      "metadata": {
        "colab": {
          "base_uri": "https://localhost:8080/",
          "height": 621
        },
        "id": "w4_L5zbppY-z",
        "outputId": "2ef3dfe4-85ad-439f-99b2-e3f54ad5f0bb"
      },
      "source": [
        "plt.subplots()\n",
        "k_range=range(1,20)\n",
        "#plt.figure()\n",
        "plt.xlabel='k'\n",
        "plt.ylabel='score'\n",
        "plt.title='the relationship bewteen k value and the accuracy of model'\n",
        "plt.scatter(k_range,scores)\n",
        "plt.xticks([0,5,10,15,20])\n",
        "plt.subplots(1)\n",
        "#plt.figure()\n",
        "k_range=range(1,20)\n",
        "plt.xlabel='k'\n",
        "plt.ylabel='score_scaled'\n",
        "plt.title='the relationship bewteen k value and the accuracy of model'\n",
        "plt.scatter(k_range,scores_scaled)\n",
        "plt.xticks([0,5,10,15,20])\n"
      ],
      "execution_count": 132,
      "outputs": [
        {
          "output_type": "execute_result",
          "data": {
            "text/plain": [
              "([<matplotlib.axis.XTick at 0x7fea13811310>,\n",
              "  <matplotlib.axis.XTick at 0x7fea138112d0>,\n",
              "  <matplotlib.axis.XTick at 0x7fea13811090>,\n",
              "  <matplotlib.axis.XTick at 0x7fea1383ec50>,\n",
              "  <matplotlib.axis.XTick at 0x7fea137c8210>],\n",
              " <a list of 5 Text major ticklabel objects>)"
            ]
          },
          "metadata": {},
          "execution_count": 132
        },
        {
          "output_type": "display_data",
          "data": {
            "image/png": "[encoded data removed]",
            "text/plain": [
              "<Figure size 432x288 with 1 Axes>"
            ]
          },
          "metadata": {
            "needs_background": "light"
          }
        },
        {
          "output_type": "display_data",
          "data": {
            "image/png": "[encoded data removed]",
            "text/plain": [
              "<Figure size 432x288 with 1 Axes>"
            ]
          },
          "metadata": {
            "needs_background": "light"
          }
        }
      ]
    }
  ]
}