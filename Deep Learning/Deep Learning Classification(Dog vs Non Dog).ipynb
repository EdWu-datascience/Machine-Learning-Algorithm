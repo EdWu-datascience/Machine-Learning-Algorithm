{
 "cells": [
  {
   "cell_type": "markdown",
   "id": "465658af",
   "metadata": {},
   "source": [
    "# **Import packages**"
   ]
  },
  {
   "cell_type": "code",
   "execution_count": 1,
   "id": "b5b0a0ca",
   "metadata": {},
   "outputs": [],
   "source": [
    "# import\n",
    "import numpy as np\n",
    "import matplotlib.pyplot as plt\n",
    "import h5py \n",
    "import scipy\n",
    "from PIL import Image\n",
    "from scipy import ndimage\n",
    "%matplotlib inline\n",
    "import time\n",
    "from dnn_app_utils_v3 import *"
   ]
  },
  {
   "cell_type": "markdown",
   "id": "5b39fbab",
   "metadata": {},
   "source": [
    "# **Read dataset**"
   ]
  },
  {
   "cell_type": "code",
   "execution_count": 5,
   "id": "47cfc3b6",
   "metadata": {},
   "outputs": [],
   "source": [
    "import os\n",
    " \n",
    "# Get the list of all files and directories\n",
    "path = '../Images 2'\n",
    "dir_list = os.listdir(path)"
   ]
  },
  {
   "cell_type": "code",
   "execution_count": 6,
   "id": "9f5cfbae",
   "metadata": {},
   "outputs": [
    {
     "data": {
      "text/plain": [
       "['n02097658-silky_terrier',\n",
       " 'n02092002-Scottish_deerhound',\n",
       " 'n02099849-Chesapeake_Bay_retriever',\n",
       " 'n02091244-Ibizan_hound',\n",
       " 'n02095314-wire-haired_fox_terrier',\n",
       " 'n02091831-Saluki',\n",
       " 'n02102318-cocker_spaniel',\n",
       " 'n02104365-schipperke',\n",
       " 'n02090622-borzoi',\n",
       " 'n02113023-Pembroke',\n",
       " 'n02105505-komondor',\n",
       " 'n02093256-Staffordshire_bullterrier',\n",
       " 'n02113799-standard_poodle',\n",
       " 'n02109961-Eskimo_dog',\n",
       " 'n02089973-English_foxhound',\n",
       " 'n02099601-golden_retriever',\n",
       " 'n02095889-Sealyham_terrier',\n",
       " 'n02085782-Japanese_spaniel',\n",
       " '.DS_Store',\n",
       " 'n02097047-miniature_schnauzer',\n",
       " 'n02110063-malamute',\n",
       " 'n02105162-malinois',\n",
       " 'n02086079-Pekinese',\n",
       " 'n02097130-giant_schnauzer',\n",
       " 'n02113978-Mexican_hairless',\n",
       " 'n02107142-Doberman',\n",
       " 'n02097209-standard_schnauzer',\n",
       " 'n02115913-dhole',\n",
       " 'n02106662-German_shepherd',\n",
       " 'n02106382-Bouvier_des_Flandres',\n",
       " 'n02110185-Siberian_husky',\n",
       " 'n02094258-Norwich_terrier',\n",
       " 'n02093991-Irish_terrier',\n",
       " 'n02094114-Norfolk_terrier',\n",
       " 'n02109525-Saint_Bernard',\n",
       " 'n02093754-Border_terrier',\n",
       " 'n02105251-briard',\n",
       " 'n02108551-Tibetan_mastiff',\n",
       " 'n02108422-bull_mastiff',\n",
       " 'n02085936-Maltese_dog',\n",
       " 'n02093859-Kerry_blue_terrier',\n",
       " 'n02104029-kuvasz',\n",
       " 'n02107574-Greater_Swiss_Mountain_dog',\n",
       " 'n02095570-Lakeland_terrier',\n",
       " 'n02086646-Blenheim_spaniel',\n",
       " 'n02088238-basset',\n",
       " 'n02098286-West_Highland_white_terrier',\n",
       " 'n02085620-Chihuahua',\n",
       " 'n02106166-Border_collie',\n",
       " 'n02090379-redbone',\n",
       " 'n02090721-Irish_wolfhound',\n",
       " 'n02088632-bluetick',\n",
       " 'n02113712-miniature_poodle',\n",
       " 'n02113186-Cardigan',\n",
       " 'n02108000-EntleBucher',\n",
       " 'n02091467-Norwegian_elkhound',\n",
       " 'n02100236-German_short-haired_pointer',\n",
       " 'n02107683-Bernese_mountain_dog',\n",
       " 'n02086910-papillon',\n",
       " 'n02097474-Tibetan_terrier',\n",
       " 'n02101006-Gordon_setter',\n",
       " 'n02093428-American_Staffordshire_terrier',\n",
       " 'n02100583-vizsla',\n",
       " 'n02105412-kelpie',\n",
       " 'n02092339-Weimaraner',\n",
       " 'n02107312-miniature_pinscher',\n",
       " 'n02108089-boxer',\n",
       " 'n02112137-chow',\n",
       " 'n02105641-Old_English_sheepdog',\n",
       " 'n02110958-pug',\n",
       " 'n02087394-Rhodesian_ridgeback',\n",
       " 'n02097298-Scotch_terrier',\n",
       " 'n02086240-Shih-Tzu',\n",
       " 'n02110627-affenpinscher',\n",
       " 'n02091134-whippet',\n",
       " 'n02102480-Sussex_spaniel',\n",
       " 'n02091635-otterhound',\n",
       " 'n02099267-flat-coated_retriever',\n",
       " 'n02100735-English_setter',\n",
       " 'n02091032-Italian_greyhound',\n",
       " 'n02099712-Labrador_retriever',\n",
       " 'n02106030-collie',\n",
       " 'n02096177-cairn',\n",
       " 'n02106550-Rottweiler',\n",
       " 'n02096294-Australian_terrier',\n",
       " 'n02087046-toy_terrier',\n",
       " 'n02105855-Shetland_sheepdog',\n",
       " 'n02116738-African_hunting_dog',\n",
       " 'n02111277-Newfoundland',\n",
       " 'n02089867-Walker_hound',\n",
       " 'n02098413-Lhasa',\n",
       " 'n02088364-beagle',\n",
       " 'n02111889-Samoyed',\n",
       " 'n02109047-Great_Dane',\n",
       " 'n02096051-Airedale',\n",
       " 'n02088466-bloodhound',\n",
       " 'n02100877-Irish_setter',\n",
       " 'n02112350-keeshond',\n",
       " 'n02096437-Dandie_Dinmont',\n",
       " 'n02110806-basenji',\n",
       " 'n02093647-Bedlington_terrier',\n",
       " 'n02107908-Appenzeller',\n",
       " 'n02101556-clumber',\n",
       " 'n02113624-toy_poodle',\n",
       " 'n02111500-Great_Pyrenees',\n",
       " 'n02102040-English_springer',\n",
       " 'n02088094-Afghan_hound',\n",
       " 'n02101388-Brittany_spaniel',\n",
       " 'n02102177-Welsh_springer_spaniel',\n",
       " 'n02096585-Boston_bull',\n",
       " 'n02115641-dingo',\n",
       " 'n02098105-soft-coated_wheaten_terrier',\n",
       " 'n02099429-curly-coated_retriever',\n",
       " 'n02108915-French_bulldog',\n",
       " 'n02102973-Irish_water_spaniel',\n",
       " 'n02112018-Pomeranian',\n",
       " 'n02112706-Brabancon_griffon',\n",
       " 'n02094433-Yorkshire_terrier',\n",
       " 'n02105056-groenendael',\n",
       " 'n02111129-Leonberg',\n",
       " 'n02089078-black-and-tan_coonhound']"
      ]
     },
     "execution_count": 6,
     "metadata": {},
     "output_type": "execute_result"
    }
   ],
   "source": [
    "dir_list"
   ]
  },
  {
   "cell_type": "code",
   "execution_count": 4,
   "id": "9d5753bc",
   "metadata": {
    "collapsed": true
   },
   "outputs": [
    {
     "ename": "ValueError",
     "evalue": "could not broadcast input array from shape (64,64,4) into shape (64,64,3)",
     "output_type": "error",
     "traceback": [
      "\u001b[0;31m---------------------------------------------------------------------------\u001b[0m",
      "\u001b[0;31mValueError\u001b[0m                                Traceback (most recent call last)",
      "\u001b[0;32m/var/folders/r2/szcgswfs0ss71fkn6dr8zn5m0000gn/T/ipykernel_17791/1718336965.py\u001b[0m in \u001b[0;36m<module>\u001b[0;34m\u001b[0m\n\u001b[1;32m     19\u001b[0m             \u001b[0;31m#plt.imshow(img_64_64)\u001b[0m\u001b[0;34m\u001b[0m\u001b[0;34m\u001b[0m\u001b[0m\n\u001b[1;32m     20\u001b[0m \u001b[0;34m\u001b[0m\u001b[0m\n\u001b[0;32m---> 21\u001b[0;31m             \u001b[0mDog_df\u001b[0m\u001b[0;34m[\u001b[0m\u001b[0mindex\u001b[0m\u001b[0;34m]\u001b[0m \u001b[0;34m=\u001b[0m \u001b[0mimg_64_64\u001b[0m\u001b[0;34m.\u001b[0m\u001b[0mastype\u001b[0m\u001b[0;34m(\u001b[0m\u001b[0mint\u001b[0m\u001b[0;34m)\u001b[0m\u001b[0;34m\u001b[0m\u001b[0;34m\u001b[0m\u001b[0m\n\u001b[0m\u001b[1;32m     22\u001b[0m             \u001b[0mindex\u001b[0m \u001b[0;34m+=\u001b[0m \u001b[0;36m1\u001b[0m\u001b[0;34m\u001b[0m\u001b[0;34m\u001b[0m\u001b[0m\n\u001b[1;32m     23\u001b[0m             \u001b[0;32mif\u001b[0m \u001b[0mindex\u001b[0m \u001b[0;34m==\u001b[0m \u001b[0;36m5000\u001b[0m\u001b[0;34m:\u001b[0m\u001b[0;34m\u001b[0m\u001b[0;34m\u001b[0m\u001b[0m\n",
      "\u001b[0;31mValueError\u001b[0m: could not broadcast input array from shape (64,64,4) into shape (64,64,3)"
     ]
    }
   ],
   "source": [
    "import imageio as iio\n",
    "import os\n",
    "path = '../Images 2'\n",
    "dir_list = os.listdir(path)\n",
    "Dog_df = np.zeros((5000,64,64,3))\n",
    "index = 0\n",
    "flag = 0\n",
    "from PIL import Image\n",
    "for i in set(dir_list):\n",
    "    if i != '.DS_Store':\n",
    "        path = path + '/' + i\n",
    "        images_name = os.listdir(path)\n",
    "        for image_name in set(images_name):\n",
    "            Im_path = path + '/' + image_name\n",
    "            img = iio.imread(Im_path)\n",
    "            img_pil = Image.fromarray(img)\n",
    "            img_64_64 = np.array(img_pil.resize((64, 64), Image.ANTIALIAS))\n",
    "            #print(img_64_64)\n",
    "            #plt.imshow(img_64_64)\n",
    "            \n",
    "            Dog_df[index] = img_64_64.astype(int)\n",
    "            index += 1\n",
    "            if index == 5000:\n",
    "                flag = 1\n",
    "                break\n",
    "    if flag == 1:\n",
    "        break           \n",
    "    path = '../Images 2'\n",
    "Dog_df = Dog_df.astype(int) \n",
    "    "
   ]
  },
  {
   "cell_type": "code",
   "execution_count": 893,
   "id": "a1aa3831",
   "metadata": {},
   "outputs": [
    {
     "data": {
      "text/plain": [
       "<matplotlib.image.AxesImage at 0x7ff308e8ea30>"
      ]
     },
     "execution_count": 893,
     "metadata": {},
     "output_type": "execute_result"
    },
    {
     "data": {
      "image/png": "[encoded data removed]",
      "text/plain": [
       "<Figure size 432x288 with 1 Axes>"
      ]
     },
     "metadata": {
      "needs_background": "light"
     },
     "output_type": "display_data"
    }
   ],
   "source": [
    "plt.imshow(Dog_df[490])"
   ]
  },
  {
   "cell_type": "code",
   "execution_count": 894,
   "id": "10d0fffd",
   "metadata": {},
   "outputs": [
    {
     "name": "stdout",
     "output_type": "stream",
     "text": [
      "Bean\n",
      "CAT_02\n",
      "could not read the .DS_Store : Could not find a format to read the specified file in single-image mode hence skipping it.\n",
      "Bitter_Gourd\n",
      ".DS_Store\n",
      "Carrot\n",
      "airport_inside\n",
      "Cauliflower\n"
     ]
    }
   ],
   "source": [
    "Non_dog_df = np.zeros((5000,64,64,3))\n",
    "path = '/vegetable Images/train'\n",
    "dir_list = os.listdir(path)\n",
    "index = 0\n",
    "flag = 0\n",
    "from PIL import Image\n",
    "for i in set(dir_list):\n",
    "    print(i)\n",
    "    if i != '.DS_Store':\n",
    "        path = path + '/' + i\n",
    "        images_name = os.listdir(path)\n",
    "        for image_name in set(images_name):\n",
    "            try:\n",
    "                Im_path = path + '/' + image_name\n",
    "                img = iio.imread(Im_path)\n",
    "                img_pil = Image.fromarray(img)\n",
    "                img_64_64 = np.array(img_pil.resize((64, 64), Image.ANTIALIAS))\n",
    "                #print(img_64_64)\n",
    "                #plt.imshow(img_64_64)\n",
    "                Non_dog_df[index] = img_64_64.astype(int)\n",
    "                index += 1\n",
    "                if index == 5000:\n",
    "                    flag = 1\n",
    "                    break\n",
    "            except (IOError,ValueError) as e:\n",
    "                print('could not read the',image_name ,':',e,'hence skipping it.')\n",
    "    if flag == 1:\n",
    "        break           \n",
    "    path = '/vegetable Images/train'\n",
    "Non_dog_df = Non_dog_df.astype(int) "
   ]
  },
  {
   "cell_type": "code",
   "execution_count": 895,
   "id": "9e8bbd2a",
   "metadata": {},
   "outputs": [
    {
     "data": {
      "text/plain": [
       "<matplotlib.image.AxesImage at 0x7ff34918d220>"
      ]
     },
     "execution_count": 895,
     "metadata": {},
     "output_type": "execute_result"
    },
    {
     "data": {
      "image/png": "[encoded data removed]",
      "text/plain": [
       "<Figure size 432x288 with 1 Axes>"
      ]
     },
     "metadata": {
      "needs_background": "light"
     },
     "output_type": "display_data"
    }
   ],
   "source": [
    "plt.imshow(Non_dog_df[-1])"
   ]
  },
  {
   "cell_type": "code",
   "execution_count": 896,
   "id": "de45be62",
   "metadata": {},
   "outputs": [
    {
     "data": {
      "text/plain": [
       "3000"
      ]
     },
     "execution_count": 896,
     "metadata": {},
     "output_type": "execute_result"
    }
   ],
   "source": [
    "import random\n",
    "a = random.sample(range(0, 5000), 3000)\n",
    "len(set(a))"
   ]
  },
  {
   "cell_type": "code",
   "execution_count": 897,
   "id": "f2c558ed",
   "metadata": {},
   "outputs": [
    {
     "data": {
      "text/plain": [
       "2000"
      ]
     },
     "execution_count": 897,
     "metadata": {},
     "output_type": "execute_result"
    }
   ],
   "source": [
    "import random\n",
    "a = random.sample(range(0, 5000), 3000)\n",
    "b = np.ones(2000,)\n",
    "index = 0\n",
    "for value in range(0,5000):\n",
    "    if value not in set(a):\n",
    "        b[index] = int(value)\n",
    "        index += 1\n",
    "c = list(b.astype(int))\n",
    "len(c)"
   ]
  },
  {
   "cell_type": "markdown",
   "id": "b0fdfe21",
   "metadata": {},
   "source": [
    "**Split the data into training set(60%), cross-validation set(20%), test set(20%)**"
   ]
  },
  {
   "cell_type": "code",
   "execution_count": 898,
   "id": "ad22cb8c",
   "metadata": {
    "collapsed": true
   },
   "outputs": [
    {
     "data": {
      "text/plain": [
       "array([[[[ 17,  17,  12],\n",
       "         [ 14,  14,  10],\n",
       "         [ 12,  12,   4],\n",
       "         ...,\n",
       "         [ 76,  89,  66],\n",
       "         [130, 144,  98],\n",
       "         [141, 144, 105]],\n",
       "\n",
       "        [[  9,  12,   4],\n",
       "         [ 22,  24,  12],\n",
       "         [ 58,  61,  41],\n",
       "         ...,\n",
       "         [150, 157, 125],\n",
       "         [155, 170, 119],\n",
       "         [131, 143, 113]],\n",
       "\n",
       "        [[ 77,  85,  70],\n",
       "         [103, 111,  89],\n",
       "         [113, 120,  91],\n",
       "         ...,\n",
       "         [181, 183, 143],\n",
       "         [152, 165, 116],\n",
       "         [ 37,  52,  26]],\n",
       "\n",
       "        ...,\n",
       "\n",
       "        [[  0,   0,   0],\n",
       "         [ 34,  34,  21],\n",
       "         [122, 119, 102],\n",
       "         ...,\n",
       "         [ 50,  55,  26],\n",
       "         [ 29,  44,   4],\n",
       "         [152, 167, 129]],\n",
       "\n",
       "        [[  1,   1,   3],\n",
       "         [  2,   4,   1],\n",
       "         [  2,   2,   1],\n",
       "         ...,\n",
       "         [ 51,  64,  22],\n",
       "         [ 54,  75,  15],\n",
       "         [111, 126,  68]],\n",
       "\n",
       "        [[  2,   2,   2],\n",
       "         [  2,   3,   4],\n",
       "         [  0,   0,   6],\n",
       "         ...,\n",
       "         [ 39,  60,  16],\n",
       "         [104, 127,  81],\n",
       "         [164, 170, 135]]],\n",
       "\n",
       "\n",
       "       [[[113, 137,  86],\n",
       "         [114, 143,  93],\n",
       "         [ 84, 115,  59],\n",
       "         ...,\n",
       "         [ 24,  25,  20],\n",
       "         [  7,   3,   5],\n",
       "         [  8,   6,   2]],\n",
       "\n",
       "        [[124, 116,  92],\n",
       "         [115, 113,  91],\n",
       "         [104, 105,  79],\n",
       "         ...,\n",
       "         [ 26,  29,  31],\n",
       "         [ 17,  18,  24],\n",
       "         [ 49,  54,  49]],\n",
       "\n",
       "        [[158, 127, 122],\n",
       "         [152, 125, 122],\n",
       "         [155, 132, 129],\n",
       "         ...,\n",
       "         [ 38,  47,  40],\n",
       "         [ 37,  48,  44],\n",
       "         [ 68,  85,  71]],\n",
       "\n",
       "        ...,\n",
       "\n",
       "        [[ 91, 128,  72],\n",
       "         [ 79, 108,  60],\n",
       "         [ 86, 106,  74],\n",
       "         ...,\n",
       "         [ 64,  89,  35],\n",
       "         [ 67,  89,  31],\n",
       "         [ 81, 105,  47]],\n",
       "\n",
       "        [[ 99, 136,  87],\n",
       "         [ 77, 107,  65],\n",
       "         [ 73,  95,  62],\n",
       "         ...,\n",
       "         [ 67,  95,  41],\n",
       "         [ 63,  88,  33],\n",
       "         [ 62,  90,  33]],\n",
       "\n",
       "        [[ 71, 108,  51],\n",
       "         [ 37,  66,  21],\n",
       "         [ 29,  49,  19],\n",
       "         ...,\n",
       "         [ 72, 109,  53],\n",
       "         [ 58,  94,  39],\n",
       "         [ 54,  95,  38]]],\n",
       "\n",
       "\n",
       "       [[[159, 192,  72],\n",
       "         [163, 194,  74],\n",
       "         [150, 180,  68],\n",
       "         ...,\n",
       "         [ 83,  86,  83],\n",
       "         [ 54,  58,  49],\n",
       "         [ 34,  38,  14]],\n",
       "\n",
       "        [[169, 196,  75],\n",
       "         [166, 195,  75],\n",
       "         [155, 186,  75],\n",
       "         ...,\n",
       "         [ 85, 101,  69],\n",
       "         [ 74,  92,  53],\n",
       "         [ 95, 114,  65]],\n",
       "\n",
       "        [[183, 202,  97],\n",
       "         [179, 203,  95],\n",
       "         [156, 185,  80],\n",
       "         ...,\n",
       "         [ 99, 129,  68],\n",
       "         [104, 136,  72],\n",
       "         [110, 142,  77]],\n",
       "\n",
       "        ...,\n",
       "\n",
       "        [[ 37,  37,  23],\n",
       "         [ 73,  77,  33],\n",
       "         [ 65,  68,  20],\n",
       "         ...,\n",
       "         [  6,   1,   2],\n",
       "         [ 11,   4,   4],\n",
       "         [ 17,   8,   8]],\n",
       "\n",
       "        [[ 70,  73,  21],\n",
       "         [ 98, 106,  42],\n",
       "         [ 93, 104,  33],\n",
       "         ...,\n",
       "         [ 36,  24,  18],\n",
       "         [ 24,  12,  10],\n",
       "         [ 38,  28,  19]],\n",
       "\n",
       "        [[109, 113,  43],\n",
       "         [ 75,  84,  18],\n",
       "         [ 73,  87,  23],\n",
       "         ...,\n",
       "         [ 44,  29,  17],\n",
       "         [ 50,  36,  31],\n",
       "         [ 47,  38,  22]]],\n",
       "\n",
       "\n",
       "       ...,\n",
       "\n",
       "\n",
       "       [[[ 81,  93,  69],\n",
       "         [ 20,  34,  15],\n",
       "         [ 28,  42,  25],\n",
       "         ...,\n",
       "         [147, 124,  99],\n",
       "         [164, 140, 114],\n",
       "         [161, 138, 112]],\n",
       "\n",
       "        [[114, 122,  96],\n",
       "         [ 59,  69,  41],\n",
       "         [ 40,  52,  25],\n",
       "         ...,\n",
       "         [168, 152, 133],\n",
       "         [164, 140, 116],\n",
       "         [172, 146, 120]],\n",
       "\n",
       "        [[130, 137, 102],\n",
       "         [117, 125,  85],\n",
       "         [ 87,  98,  57],\n",
       "         ...,\n",
       "         [201, 190, 174],\n",
       "         [179, 165, 152],\n",
       "         [177, 164, 150]],\n",
       "\n",
       "        ...,\n",
       "\n",
       "        [[ 10,   7,   5],\n",
       "         [  6,   2,   1],\n",
       "         [  7,   3,   2],\n",
       "         ...,\n",
       "         [157, 140, 125],\n",
       "         [171, 154, 142],\n",
       "         [137, 123, 113]],\n",
       "\n",
       "        [[  6,   6,   4],\n",
       "         [  5,   4,   2],\n",
       "         [  6,   5,   3],\n",
       "         ...,\n",
       "         [157, 140, 134],\n",
       "         [169, 154, 150],\n",
       "         [177, 162, 161]],\n",
       "\n",
       "        [[ 12,  12,  10],\n",
       "         [  6,   6,   4],\n",
       "         [  4,   4,   2],\n",
       "         ...,\n",
       "         [160, 144, 135],\n",
       "         [157, 142, 137],\n",
       "         [162, 147, 142]]],\n",
       "\n",
       "\n",
       "       [[[ 57,  82,  52],\n",
       "         [ 56, 118,  72],\n",
       "         [ 89, 118,  96],\n",
       "         ...,\n",
       "         [ 88,  97, 125],\n",
       "         [ 86,  97, 127],\n",
       "         [ 89, 103, 135]],\n",
       "\n",
       "        [[ 93,  61,  40],\n",
       "         [ 96, 130,  65],\n",
       "         [ 86, 128, 125],\n",
       "         ...,\n",
       "         [ 82,  92, 116],\n",
       "         [ 79,  92, 119],\n",
       "         [ 78,  93, 121]],\n",
       "\n",
       "        [[159,   0,   0],\n",
       "         [135,  32,  10],\n",
       "         [ 71,  76,  30],\n",
       "         ...,\n",
       "         [ 80,  91, 117],\n",
       "         [ 80,  92, 119],\n",
       "         [ 77,  91, 119]],\n",
       "\n",
       "        ...,\n",
       "\n",
       "        [[ 46,  81,  64],\n",
       "         [ 43,  71,  62],\n",
       "         [ 40,  64,  52],\n",
       "         ...,\n",
       "         [163, 152, 134],\n",
       "         [171, 164, 147],\n",
       "         [170, 168, 152]],\n",
       "\n",
       "        [[102, 123, 101],\n",
       "         [113, 135, 121],\n",
       "         [ 69,  94,  79],\n",
       "         ...,\n",
       "         [163, 147, 129],\n",
       "         [161, 149, 131],\n",
       "         [165, 158, 139]],\n",
       "\n",
       "        [[188, 192, 169],\n",
       "         [175, 191, 173],\n",
       "         [ 65,  94,  73],\n",
       "         ...,\n",
       "         [163, 152, 139],\n",
       "         [166, 156, 142],\n",
       "         [179, 171, 157]]],\n",
       "\n",
       "\n",
       "       [[[ 53,  69,  73],\n",
       "         [ 41,  48,  52],\n",
       "         [ 18,  25,  35],\n",
       "         ...,\n",
       "         [ 98,  41,  42],\n",
       "         [ 63,  31,  22],\n",
       "         [149,  89,  85]],\n",
       "\n",
       "        [[ 65,  83,  89],\n",
       "         [ 20,  30,  38],\n",
       "         [ 15,  22,  30],\n",
       "         ...,\n",
       "         [113,  47,  57],\n",
       "         [108,  54,  53],\n",
       "         [172,  85,  87]],\n",
       "\n",
       "        [[113, 151, 163],\n",
       "         [ 58,  77,  95],\n",
       "         [  8,   7,  12],\n",
       "         ...,\n",
       "         [ 75,  11,  15],\n",
       "         [ 91,  31,  26],\n",
       "         [136,  50,  46]],\n",
       "\n",
       "        ...,\n",
       "\n",
       "        [[132, 117, 132],\n",
       "         [134, 122, 138],\n",
       "         [132, 124, 141],\n",
       "         ...,\n",
       "         [ 32,  11,   9],\n",
       "         [ 69,  30,  28],\n",
       "         [127,  57,  57]],\n",
       "\n",
       "        [[122, 109, 123],\n",
       "         [128, 118, 133],\n",
       "         [132, 125, 141],\n",
       "         ...,\n",
       "         [  0,   0,   1],\n",
       "         [ 26,  12,  11],\n",
       "         [ 81,  41,  39]],\n",
       "\n",
       "        [[107,  99, 111],\n",
       "         [112, 107, 121],\n",
       "         [125, 120, 136],\n",
       "         ...,\n",
       "         [  1,   2,   4],\n",
       "         [  0,   0,   0],\n",
       "         [ 17,  10,   9]]]])"
      ]
     },
     "execution_count": 898,
     "metadata": {},
     "output_type": "execute_result"
    }
   ],
   "source": [
    "Non_dog_df[a,:]\n",
    "Non_dog_df[c[0:1000],:]\n",
    "Non_dog_df[c[1000:],:]"
   ]
  },
  {
   "cell_type": "code",
   "execution_count": 899,
   "id": "d4f9e5a0",
   "metadata": {},
   "outputs": [],
   "source": [
    "Training_X = np.concatenate((Dog_df[0:3000],Non_dog_df[a,:]),axis=0)\n",
    "Cross_validation_X = np.concatenate((Dog_df[3000:4000],Non_dog_df[c[0:1000],:]),axis=0)\n",
    "Test_X = np.concatenate((Dog_df[4000:],Non_dog_df[c[1000:],:]),axis=0)"
   ]
  },
  {
   "cell_type": "code",
   "execution_count": 900,
   "id": "4dc8101a",
   "metadata": {},
   "outputs": [],
   "source": [
    "train_set_y = np.concatenate((np.ones((1,3000)),np.zeros((1,3000))),axis=1)\n",
    "validation_set_y = np.concatenate((np.ones((1,1000)),np.zeros((1,1000))),axis=1)\n",
    "test_set_y = np.concatenate((np.ones((1,1000)),np.zeros((1,1000))),axis=1)"
   ]
  },
  {
   "cell_type": "code",
   "execution_count": 901,
   "id": "bb23bc2e",
   "metadata": {},
   "outputs": [],
   "source": [
    "train_set_x_flatten = Training_X.reshape(Training_X.shape[0],-1).T\n",
    "test_set_x_flatten = Test_X.reshape(Test_X.shape[0],-1).T\n",
    "validate_x_flatten = Cross_validation_X.reshape(Cross_validation_X.shape[0],-1).T"
   ]
  },
  {
   "cell_type": "code",
   "execution_count": 902,
   "id": "144d4272",
   "metadata": {},
   "outputs": [
    {
     "data": {
      "text/plain": [
       "(1, 6000)"
      ]
     },
     "execution_count": 902,
     "metadata": {},
     "output_type": "execute_result"
    }
   ],
   "source": [
    "train_set_y.shape"
   ]
  },
  {
   "cell_type": "markdown",
   "id": "21cbee4e",
   "metadata": {},
   "source": [
    "\n",
    "\n",
    "\n",
    "# A logistic regression model (no hidden layers)."
   ]
  },
  {
   "cell_type": "markdown",
   "id": "201de434",
   "metadata": {},
   "source": [
    "# Normalization"
   ]
  },
  {
   "cell_type": "code",
   "execution_count": 903,
   "id": "6ba1cfda",
   "metadata": {},
   "outputs": [],
   "source": [
    "train_set_x = train_set_x_flatten/255.\n",
    "validate_set_x = validate_x_flatten/255.\n",
    "test_set_x = test_set_x_flatten/255."
   ]
  },
  {
   "cell_type": "code",
   "execution_count": 904,
   "id": "9d4e483e",
   "metadata": {},
   "outputs": [
    {
     "data": {
      "text/plain": [
       "(12288, 2000)"
      ]
     },
     "execution_count": 904,
     "metadata": {},
     "output_type": "execute_result"
    }
   ],
   "source": [
    "test_set_x.shape"
   ]
  },
  {
   "cell_type": "code",
   "execution_count": 905,
   "id": "25ebbd5b",
   "metadata": {},
   "outputs": [],
   "source": [
    "\n",
    "def initialize_with_zeros(dim):\n",
    "    w = np.zeros((dim,1))\n",
    "    b = .0\n",
    "    \n",
    "    assert(w.shape == (dim, 1))\n",
    "    assert(isinstance(b, float) or isinstance(b, int))\n",
    "    \n",
    "    return w, b"
   ]
  },
  {
   "cell_type": "code",
   "execution_count": 906,
   "id": "9e764172",
   "metadata": {},
   "outputs": [
    {
     "name": "stdout",
     "output_type": "stream",
     "text": [
      "w = [[0.]\n",
      " [0.]]\n",
      "b = 0.0\n"
     ]
    }
   ],
   "source": [
    "dim = 2\n",
    "w, b = initialize_with_zeros(dim)\n",
    "print (\"w = \" + str(w))\n",
    "print (\"b = \" + str(b))"
   ]
  },
  {
   "cell_type": "code",
   "execution_count": 907,
   "id": "2f40a146",
   "metadata": {},
   "outputs": [],
   "source": [
    "# Helper function\n",
    "def sigmoid(z):\n",
    "    s = 1/(1+np.exp(-z))\n",
    "    return s"
   ]
  },
  {
   "cell_type": "code",
   "execution_count": 908,
   "id": "2a2affda",
   "metadata": {},
   "outputs": [],
   "source": [
    "# Helper function\n",
    "def L(yhat, y):\n",
    "    loss = -(y*np.log(yhat)+(1-y)*np.log(1-yhat))\n",
    "    return loss"
   ]
  },
  {
   "cell_type": "code",
   "execution_count": 909,
   "id": "6e0fd2ab",
   "metadata": {},
   "outputs": [],
   "source": [
    "# Helper function\n",
    "def C(yhat, y):\n",
    "    m = y.shape[1]\n",
    "    cost = 1/m*np.sum(L(yhat, y))\n",
    "    return cost"
   ]
  },
  {
   "cell_type": "code",
   "execution_count": 910,
   "id": "29ad0625",
   "metadata": {},
   "outputs": [],
   "source": [
    "\n",
    "def propagate(w, b, X, Y):\n",
    "\n",
    "    m = X.shape[1]\n",
    "    \n",
    "    # FORWARD PROPAGATION (FROM X TO COST)\n",
    "    A = sigmoid(np.dot(np.transpose(w),X)+b)                                 \n",
    "    cost = C(A,Y)                               \n",
    "    \n",
    "    \n",
    "    # BACKWARD PROPAGATION (TO FIND GRAD)\n",
    "    Dw = 1/m*np.dot(X,np.transpose(A-Y))\n",
    "    Db = 1/m*np.sum(A-Y)\n",
    "\n",
    "    assert(Dw.shape == w.shape)\n",
    "    assert(Db.dtype == float)\n",
    "    cost = np.squeeze(cost)\n",
    "    assert(cost.shape == ())\n",
    "    \n",
    "    grads = {\"Dw\": Dw,\n",
    "             \"Db\": Db}\n",
    "    \n",
    "    return grads, cost"
   ]
  },
  {
   "cell_type": "code",
   "execution_count": 911,
   "id": "67389f74",
   "metadata": {},
   "outputs": [],
   "source": [
    "\n",
    "def optimize(w, b, X, Y, num_iterations, learning_rate, print_cost = False):\n",
    "    \n",
    "    costs = []\n",
    "    \n",
    "    for i in range(num_iterations):\n",
    "        grads, cost = propagate(w, b, X, Y)\n",
    "\n",
    "        \n",
    "        # Retrieve derivatives from grads\n",
    "        Dw = grads[\"Dw\"]\n",
    "        Db = grads[\"Db\"]\n",
    "        \n",
    "        # update rule \n",
    "        w = w-learning_rate*Dw\n",
    "        b = b-learning_rate*Db\n",
    "        \n",
    "        # Record the costs\n",
    "        if i % 100 == 0:\n",
    "            costs.append(cost)\n",
    "        if i == 0:\n",
    "            print (\"Cost after iteration %i: %f\" %(i, cost))\n",
    "        \n",
    "        # Print the cost every 100 training iterations\n",
    "        if print_cost == True and i % 100 == 0:\n",
    "            print (\"Cost after iteration %i: %f\" %(i, cost))\n",
    "    \n",
    "    params = {\"w\": w,\n",
    "              \"b\": b}\n",
    "    \n",
    "    grads = {\"Dw\": Dw,\n",
    "             \"Db\": Db}\n",
    "    \n",
    "    return params, grads, costs"
   ]
  },
  {
   "cell_type": "code",
   "execution_count": 912,
   "id": "533b71c5",
   "metadata": {},
   "outputs": [],
   "source": [
    "def predict(w, b, X):\n",
    "    m = X.shape[1]\n",
    "    Y_prediction = np.zeros((1,m))\n",
    "    w = w.reshape(X.shape[0], 1)\n",
    "    \n",
    "    # Compute vector \"A\" predicting the probabilities of a cat being present in the picture\n",
    "    A = sigmoid(np.dot(np.transpose(w),X)+b) \n",
    "        \n",
    "    for i in range(A.shape[1]): \n",
    "        # Convert probabilities A[0,i] to actual predictions p[0,i]\n",
    "        # or Y_predict[0,i] = np.where(A[0,i]>0.5,1,0)\n",
    "        if A[0,i] <= 0.5:\n",
    "            Y_prediction[0,i] = 0\n",
    "        else:\n",
    "            Y_prediction[0,i] = 1\n",
    "    \n",
    "    assert(Y_prediction.shape == (1, m))\n",
    "    \n",
    "    return Y_prediction"
   ]
  },
  {
   "cell_type": "code",
   "execution_count": 913,
   "id": "d8a619b3",
   "metadata": {},
   "outputs": [],
   "source": [
    "def model(X_train, Y_train, X_test, Y_test, num_iterations = 2000, learning_rate = 0.5, print_cost = False):\n",
    "    # initialize parameters with zeros \n",
    "    w, b = np.zeros((X_train.shape[0],1)),0\n",
    "\n",
    "    # Gradient descent \n",
    "    parameters, grads, costs = optimize(w, b, X_train, Y_train, num_iterations, learning_rate, print_cost = False)\n",
    "    \n",
    "    # Retrieve parameters w and b from dictionary \"parameters\"\n",
    "    w = parameters[\"w\"]\n",
    "    b = parameters[\"b\"]\n",
    "    \n",
    "    # Predict test/train set examples \n",
    "    Y_prediction_test = predict(w, b, X_test)\n",
    "    Y_prediction_train = predict(w,b,X_train)\n",
    "\n",
    "    \n",
    "    # Print train/test Errors\n",
    "    print(\"train accuracy: {} %\".format(100 - np.mean(np.abs(Y_prediction_train - Y_train)) * 100))\n",
    "    print(\"test accuracy: {} %\".format(100 - np.mean(np.abs(Y_prediction_test - Y_test)) * 100))\n",
    "\n",
    "    \n",
    "    d = {\"costs\": costs,\n",
    "         \"Y_prediction_test\": Y_prediction_test, \n",
    "         \"Y_prediction_train\" : Y_prediction_train, \n",
    "         \"w\" : w, \n",
    "         \"b\" : b,\n",
    "         \"learning_rate\" : learning_rate,\n",
    "         \"num_iterations\": num_iterations}\n",
    "    \n",
    "    return d"
   ]
  },
  {
   "cell_type": "code",
   "execution_count": 914,
   "id": "ed973536",
   "metadata": {},
   "outputs": [
    {
     "name": "stdout",
     "output_type": "stream",
     "text": [
      "Cost after iteration 0: 0.693147\n",
      "train accuracy: 78.83333333333333 %\n",
      "test accuracy: 66.35 %\n"
     ]
    }
   ],
   "source": [
    "d = model(train_set_x, train_set_y, validate_set_x, validate_set_y, num_iterations = 5000, learning_rate = 0.005, print_cost = False)\n",
    "\n"
   ]
  },
  {
   "cell_type": "code",
   "execution_count": 916,
   "id": "fa594951",
   "metadata": {},
   "outputs": [
    {
     "name": "stdout",
     "output_type": "stream",
     "text": [
      "Cost after iteration 0: 0.693147\n"
     ]
    },
    {
     "name": "stderr",
     "output_type": "stream",
     "text": [
      "/var/folders/r2/szcgswfs0ss71fkn6dr8zn5m0000gn/T/ipykernel_5788/466909980.py:3: RuntimeWarning: divide by zero encountered in log\n",
      "  loss = -(y*np.log(yhat)+(1-y)*np.log(1-yhat))\n",
      "/var/folders/r2/szcgswfs0ss71fkn6dr8zn5m0000gn/T/ipykernel_5788/466909980.py:3: RuntimeWarning: invalid value encountered in multiply\n",
      "  loss = -(y*np.log(yhat)+(1-y)*np.log(1-yhat))\n"
     ]
    },
    {
     "name": "stdout",
     "output_type": "stream",
     "text": [
      "train accuracy: 67.63333333333333 %\n",
      "test accuracy: 64.80000000000001 %\n"
     ]
    }
   ],
   "source": [
    "# On validate dataset\n",
    "d = model(train_set_x, train_set_y, validate_set_x, validation_set_y, num_iterations = 5000, learning_rate = 0.05, print_cost = False)\n"
   ]
  },
  {
   "cell_type": "code",
   "execution_count": 918,
   "id": "bb2f1652",
   "metadata": {},
   "outputs": [
    {
     "name": "stdout",
     "output_type": "stream",
     "text": [
      "Cost after iteration 0: 0.693147\n",
      "train accuracy: 76.4 %\n",
      "test accuracy: 74.4 %\n"
     ]
    }
   ],
   "source": [
    "# On validate dataset\n",
    "d = model(train_set_x, train_set_y, validate_set_x, validation_set_y, num_iterations = 5000, learning_rate = 0.001, print_cost = False)\n"
   ]
  },
  {
   "cell_type": "code",
   "execution_count": 919,
   "id": "fb3d7893",
   "metadata": {},
   "outputs": [
    {
     "name": "stdout",
     "output_type": "stream",
     "text": [
      "Cost after iteration 0: 0.693147\n",
      "train accuracy: 74.23333333333333 %\n",
      "test accuracy: 71.80000000000001 %\n"
     ]
    }
   ],
   "source": [
    "# On validate dataset\n",
    "d = model(train_set_x, train_set_y, validate_set_x, validation_set_y, num_iterations = 5000, learning_rate = 0.0005, print_cost = False)\n"
   ]
  },
  {
   "cell_type": "code",
   "execution_count": 920,
   "id": "d928938f",
   "metadata": {},
   "outputs": [
    {
     "name": "stdout",
     "output_type": "stream",
     "text": [
      "Cost after iteration 0: 0.693147\n",
      "train accuracy: 76.4 %\n",
      "test accuracy: 65.8 %\n"
     ]
    }
   ],
   "source": [
    "# On test dataset\n",
    "# the best model\n",
    "d = model(train_set_x, train_set_y, test_set_x, test_set_y, num_iterations = 5000, learning_rate = 0.001, print_cost = False)\n"
   ]
  },
  {
   "cell_type": "code",
   "execution_count": 921,
   "id": "61ec8f49",
   "metadata": {},
   "outputs": [
    {
     "data": {
      "image/png": "[encoded data removed]",
      "text/plain": [
       "<Figure size 432x288 with 1 Axes>"
      ]
     },
     "metadata": {
      "needs_background": "light"
     },
     "output_type": "display_data"
    }
   ],
   "source": [
    "costs = np.squeeze(d['costs'])\n",
    "plt.plot(costs)\n",
    "plt.ylabel('cost')\n",
    "plt.xlabel('iterations (per hundreds)')\n",
    "plt.title(\"Learning rate =\" + str(d[\"learning_rate\"]))\n",
    "plt.show()"
   ]
  },
  {
   "cell_type": "markdown",
   "id": "9fe23722",
   "metadata": {},
   "source": [
    "A Neural Network with one hidden layer and four hidden units. Use the ReLU activation\n",
    "function for the hidden layer and use the sigmoid activation function for the outcome layer."
   ]
  },
  {
   "cell_type": "code",
   "execution_count": 815,
   "id": "3ab5dcb3",
   "metadata": {},
   "outputs": [
    {
     "data": {
      "text/plain": [
       "(1, 6000)"
      ]
     },
     "execution_count": 815,
     "metadata": {},
     "output_type": "execute_result"
    }
   ],
   "source": [
    "train_set_y.shape"
   ]
  },
  {
   "cell_type": "code",
   "execution_count": 922,
   "id": "753bf400",
   "metadata": {},
   "outputs": [],
   "source": [
    "def layer_sizes(X, Y):\n",
    "    \n",
    "    n_x = X.shape[0] # size of input layer\n",
    "    n_h = 4 #manually set it as 4\n",
    "    n_y = Y.shape[0] # size of output layer\n",
    "    \n",
    "    return (n_x, n_h, n_y)"
   ]
  },
  {
   "cell_type": "code",
   "execution_count": 923,
   "id": "0891fb9c",
   "metadata": {},
   "outputs": [],
   "source": [
    "def initialize_parameters(n_x, n_h, n_y):  \n",
    "    np.random.seed(2) # we set up a seed so that your output matches my values although the initialization is random.\n",
    "    \n",
    "    W1 = np.random.randn(n_h,n_x)*0.01\n",
    "    b1 = np.zeros((n_h,1))\n",
    "    W2 = np.random.randn(n_y,n_h)*0.01\n",
    "    b2 = np.zeros((n_y,1))\n",
    "    \n",
    "    assert (W1.shape == (n_h, n_x))\n",
    "    assert (b1.shape == (n_h, 1))\n",
    "    assert (W2.shape == (n_y, n_h))\n",
    "    assert (b2.shape == (n_y, 1))\n",
    "    \n",
    "    parameters = {\"W1\": W1,\n",
    "                  \"b1\": b1,\n",
    "                  \"W2\": W2,\n",
    "                  \"b2\": b2}\n",
    "    \n",
    "    return parameters"
   ]
  },
  {
   "cell_type": "code",
   "execution_count": 924,
   "id": "b17d1abb",
   "metadata": {},
   "outputs": [
    {
     "name": "stdout",
     "output_type": "stream",
     "text": [
      "W1 = [[-0.00416758 -0.00056267 -0.02136196 ... -0.01275513  0.00733372\n",
      "   0.01166127]\n",
      " [ 0.00016076  0.00699494 -0.02144254 ... -0.00569705 -0.00276633\n",
      "   0.0011016 ]\n",
      " [-0.00553107  0.00678748 -0.00870469 ...  0.00174631  0.00395599\n",
      "  -0.00136441]\n",
      " [-0.00701089  0.00335768 -0.00122743 ...  0.01439597 -0.00733648\n",
      "  -0.0040589 ]]\n",
      "b1 = [[0.]\n",
      " [0.]\n",
      " [0.]\n",
      " [0.]]\n",
      "W2 = [[-0.01336063  0.00115223 -0.00207114  0.01109624]]\n",
      "b2 = [[0.]]\n"
     ]
    }
   ],
   "source": [
    "parameters = initialize_parameters(n_x, n_h, n_y)\n",
    "print(\"W1 = \" + str(parameters[\"W1\"]))\n",
    "print(\"b1 = \" + str(parameters[\"b1\"]))\n",
    "print(\"W2 = \" + str(parameters[\"W2\"]))\n",
    "print(\"b2 = \" + str(parameters[\"b2\"]))"
   ]
  },
  {
   "cell_type": "code",
   "execution_count": 925,
   "id": "41b58faf",
   "metadata": {},
   "outputs": [],
   "source": [
    "\n",
    "def forward_propagation(X, parameters):\n",
    "\n",
    "    # Retrieve each parameter from the dictionary \"parameters\"\n",
    "    W1 = parameters['W1']\n",
    "    b1 = parameters['b1']\n",
    "    W2 = parameters['W2']\n",
    "    b2 = parameters['b2']\n",
    "    \n",
    "    \n",
    "    # Implement Forward Propagation to calculate A2 (probabilities)\n",
    "    Z1 = np.dot(W1,X)+b1\n",
    "    #A1 = np.tanh(Z1)\n",
    "    A1 = np.maximum(0,Z1)\n",
    "    Z2 = np.dot(W2,A1)+b2\n",
    "    #A2 = sigmoid(Z2)\n",
    "    A2 = 1/(1+np.exp(-Z2))\n",
    "    \n",
    "    assert(A2.shape == (1, X.shape[1]))\n",
    "    \n",
    "    cache = {\"Z1\": Z1,\n",
    "             \"A1\": A1,\n",
    "             \"Z2\": Z2,\n",
    "             \"A2\": A2}\n",
    "    \n",
    "    return A2, cache"
   ]
  },
  {
   "cell_type": "code",
   "execution_count": 926,
   "id": "b6eecfdd",
   "metadata": {},
   "outputs": [],
   "source": [
    "def compute_cost(A2, Y, parameters):\n",
    "\n",
    "    m = Y.shape[1] # number of example\n",
    "\n",
    "    # Compute the cost\n",
    "    logprobs = np.multiply(np.log(A2),Y) + np.multiply(np.log(1-A2),(1-Y))\n",
    "    cost = -1/m*np.sum(logprobs)\n",
    "    \n",
    "    cost = float(np.squeeze(cost))  # makes sure cost is the dimension we expect. \n",
    "                                    # E.g., turns [[17]] into 17 \n",
    "    assert(isinstance(cost, float))\n",
    "    \n",
    "    return cost"
   ]
  },
  {
   "cell_type": "code",
   "execution_count": 927,
   "id": "1b5f9355",
   "metadata": {},
   "outputs": [],
   "source": [
    "\n",
    "def backward_propagation(parameters, cache, X, Y):\n",
    "\n",
    "    m = X.shape[1]\n",
    "    \n",
    "    # First, retrieve W1 and W2 from the dictionary \"parameters\".\n",
    "    W1 = parameters['W1']\n",
    "    W2 = parameters['W2']\n",
    "        \n",
    "    # Retrieve also A1 and A2 from dictionary \"cache\".\n",
    "    A1 = cache['A1']\n",
    "    A2 = cache['A2']\n",
    "    \n",
    "    # Backward propagation: calculate dW1, db1, dW2, db2, corresponding to 6 equations on slide above\n",
    "    dZ2 = A2-Y\n",
    "    dW2 = 1/m*np.dot(dZ2,np.transpose(A1))\n",
    "    db2 = 1/m*np.sum(dZ2)\n",
    "    \n",
    "    #dZ1 = np.dot(W2.T,dZ2)*(1-np.power(A1,2))\n",
    "    temp = np.maximum(0,A1)\n",
    "    temp[temp<=0] = 0\n",
    "    temp[temp>0] = 1\n",
    "    dZ1 = np.dot(W2.T,dZ2)*temp\n",
    "    \n",
    "    dW1 = 1/m*np.dot(dZ1,np.transpose(X))\n",
    "   \n",
    "    db1 = 1/m*np.sum(dZ1,axis = 1,keepdims = True)\n",
    "    \n",
    "    grads = {\"dW1\": dW1,\n",
    "             \"db1\": db1,\n",
    "             \"dW2\": dW2,\n",
    "             \"db2\": db2}\n",
    "    \n",
    "    return grads"
   ]
  },
  {
   "cell_type": "code",
   "execution_count": 945,
   "id": "6703480f",
   "metadata": {},
   "outputs": [],
   "source": [
    "def update_parameters(parameters, grads, learning_rate = 0.05):\n",
    "\n",
    "    # Retrieve each parameter from the dictionary \"parameters\"\n",
    "    W1 = parameters['W1']\n",
    "    b1 = parameters['b1']\n",
    "    W2 = parameters['W2']\n",
    "    b2 = parameters['b2']\n",
    "    \n",
    "    # Retrieve each gradient from the dictionary \"grads\"\n",
    "    dW1 = grads[\"dW1\"]\n",
    "    db1 = grads['db1']\n",
    "    dW2 = grads['dW2']\n",
    "    db2 = grads['db2']\n",
    "    \n",
    "    # Update rule for each parameter\n",
    "    W1 = W1 - learning_rate*dW1\n",
    "    b1 = b1 - learning_rate*db1\n",
    "    W2 = W2 - learning_rate*dW2\n",
    "    b2 = b2 - learning_rate*db2\n",
    "    \n",
    "    parameters = {\"W1\": W1,\n",
    "                  \"b1\": b1,\n",
    "                  \"W2\": W2,\n",
    "                  \"b2\": b2}\n",
    "    \n",
    "    return parameters"
   ]
  },
  {
   "cell_type": "code",
   "execution_count": 941,
   "id": "a3e05b33",
   "metadata": {},
   "outputs": [],
   "source": [
    "\n",
    "def nn_model(X, Y, n_h, num_iterations = 10000, print_cost=False):\n",
    "    \n",
    "    np.random.seed(3)\n",
    "    n_x = layer_sizes(X, Y)[0]\n",
    "    n_y = layer_sizes(X, Y)[2]\n",
    "    \n",
    "    # Initialize parameters\n",
    "    parameters = initialize_parameters(n_x, n_h, n_y)\n",
    "    \n",
    "        \n",
    "    # Loop (gradient descent)\n",
    "    for i in range(0, num_iterations):\n",
    "\n",
    "        # Forward propagation. Inputs: \"X, parameters\". Outputs: \"A2, cache\".\n",
    "        A2, cache = forward_propagation(X, parameters)\n",
    "\n",
    "        # Cost function. Inputs: \"A2, Y, parameters\". Outputs: \"cost\".\n",
    "        cost = compute_cost(A2, Y, parameters)\n",
    " \n",
    "        # Backpropagation. Inputs: \"parameters, cache, X, Y\". Outputs: \"grads\".\n",
    "        grads = backward_propagation(parameters, cache, X, Y)\n",
    " \n",
    "        # Gradient descent parameter update. Inputs: \"parameters, grads\". Outputs: \"parameters\".\n",
    "        parameters = update_parameters(parameters, grads)\n",
    "        \n",
    "        # Print the cost every 1000 iterations\n",
    "        if print_cost and i % 100 == 0:\n",
    "            print (\"Cost after iteration %i: %f\" %(i, cost))\n",
    "\n",
    "    return parameters"
   ]
  },
  {
   "cell_type": "code",
   "execution_count": 930,
   "id": "8ab974cc",
   "metadata": {},
   "outputs": [],
   "source": [
    "def predict(parameters, X):\n",
    "\n",
    "    A2, cache = forward_propagation(X, parameters)\n",
    "    predictions = np.where(A2>0.5,1,0)\n",
    "    \n",
    "    return predictions"
   ]
  },
  {
   "cell_type": "code",
   "execution_count": 931,
   "id": "40401e06",
   "metadata": {},
   "outputs": [
    {
     "name": "stdout",
     "output_type": "stream",
     "text": [
      "Cost after iteration 0: 0.693157\n",
      "Cost after iteration 1000: 0.692847\n",
      "Cost after iteration 2000: 0.693147\n",
      "Cost after iteration 3000: 0.693147\n",
      "Cost after iteration 4000: 0.693147\n",
      "Cost after iteration 5000: 0.693147\n",
      "Cost after iteration 6000: 0.693147\n",
      "Cost after iteration 7000: 0.693147\n",
      "Cost after iteration 8000: 0.693147\n",
      "Cost after iteration 9000: 0.693147\n"
     ]
    }
   ],
   "source": [
    "#learning rate = 1\n",
    "parameters = nn_model(train_set_x, train_set_y, n_h = 4, num_iterations = 10000, print_cost=True)"
   ]
  },
  {
   "cell_type": "code",
   "execution_count": 933,
   "id": "6c6ee215",
   "metadata": {},
   "outputs": [
    {
     "name": "stdout",
     "output_type": "stream",
     "text": [
      "Training Accuracy: 50%\n",
      "Validation Accuracy: 50%\n"
     ]
    }
   ],
   "source": [
    "predictions = predict(parameters, train_set_x)\n",
    "print ('Training Accuracy: %d' % float((np.dot(train_set_y,predictions.T) + np.dot(1-train_set_y,1-predictions.T))/float(train_set_y.size)*100) + '%')\n",
    "predictions = predict(parameters, validate_set_x)\n",
    "print ('Validation Accuracy: %d' % float((np.dot(validation_set_y,predictions.T) + np.dot(1-validation_set_y,1-predictions.T))/float(validation_set_y.size)*100) + '%')\n"
   ]
  },
  {
   "cell_type": "code",
   "execution_count": 946,
   "id": "c933ffd0",
   "metadata": {},
   "outputs": [
    {
     "name": "stdout",
     "output_type": "stream",
     "text": [
      "Cost after iteration 0: 0.693157\n",
      "Cost after iteration 100: 0.669755\n",
      "Cost after iteration 200: 0.630867\n",
      "Cost after iteration 300: 0.585275\n",
      "Cost after iteration 400: 0.583634\n",
      "Cost after iteration 500: 0.553898\n",
      "Cost after iteration 600: 0.627166\n",
      "Cost after iteration 700: 0.533573\n",
      "Cost after iteration 800: 0.578697\n",
      "Cost after iteration 900: 0.499296\n",
      "Cost after iteration 1000: 0.481579\n",
      "Cost after iteration 1100: 0.556316\n",
      "Cost after iteration 1200: 0.461722\n",
      "Cost after iteration 1300: 0.515944\n",
      "Cost after iteration 1400: 0.479851\n",
      "Cost after iteration 1500: 0.485053\n",
      "Cost after iteration 1600: 0.475376\n",
      "Cost after iteration 1700: 0.473045\n",
      "Cost after iteration 1800: 0.464840\n",
      "Cost after iteration 1900: 0.459670\n"
     ]
    }
   ],
   "source": [
    "#learning rate = 0.05 \n",
    "# The best model\n",
    "parameters = nn_model(train_set_x, train_set_y, n_h = 4, num_iterations = 2000, print_cost=True)"
   ]
  },
  {
   "cell_type": "code",
   "execution_count": 947,
   "id": "af878d93",
   "metadata": {},
   "outputs": [
    {
     "name": "stdout",
     "output_type": "stream",
     "text": [
      "Training Accuracy: 80%\n",
      "Validation Accuracy: 75%\n"
     ]
    }
   ],
   "source": [
    "predictions = predict(parameters, train_set_x)\n",
    "print ('Training Accuracy: %d' % float((np.dot(train_set_y,predictions.T) + np.dot(1-train_set_y,1-predictions.T))/float(train_set_y.size)*100) + '%')\n",
    "predictions = predict(parameters, validate_set_x)\n",
    "print ('Validation Accuracy: %d' % float((np.dot(validation_set_y,predictions.T) + np.dot(1-validation_set_y,1-predictions.T))/float(validation_set_y.size)*100) + '%')\n"
   ]
  },
  {
   "cell_type": "code",
   "execution_count": 948,
   "id": "0e6bb7e0",
   "metadata": {},
   "outputs": [
    {
     "name": "stdout",
     "output_type": "stream",
     "text": [
      "Training Accuracy: 80%\n",
      "Testing Accuracy: 68%\n"
     ]
    }
   ],
   "source": [
    "predictions = predict(parameters, train_set_x)\n",
    "print ('Training Accuracy: %d' % float((np.dot(train_set_y,predictions.T) + np.dot(1-train_set_y,1-predictions.T))/float(train_set_y.size)*100) + '%')\n",
    "\n",
    "predictions = predict(parameters, test_set_x)\n",
    "print ('Testing Accuracy: %d' % float((np.dot(test_set_y,predictions.T) + np.dot(1-test_set_y,1-predictions.T))/float(test_set_y.size)*100) + '%')\n",
    "\n",
    "\n"
   ]
  },
  {
   "cell_type": "markdown",
   "id": "3bb02970",
   "metadata": {},
   "source": [
    "A Neural Network with two hidden layers. The first hidden layer with seven hidden units, and the second hidden layer with four hidden units. Use the ReLU activation function for\n",
    "both hidden layers and use the sigmoid activation function for the outcome layer."
   ]
  },
  {
   "cell_type": "code",
   "execution_count": 964,
   "id": "2cd60ba9",
   "metadata": {},
   "outputs": [],
   "source": [
    "layers_dims = [12288, 7, 4, 1]"
   ]
  },
  {
   "cell_type": "code",
   "execution_count": 965,
   "id": "8385bd95",
   "metadata": {},
   "outputs": [],
   "source": [
    "def initialize_parameters_deep(layer_dims):\n",
    "    \n",
    "    np.random.seed(3)\n",
    "    parameters = {}\n",
    "    L = len(layer_dims)            # number of layers in the network\n",
    "\n",
    "    for l in range(1, L):\n",
    "        parameters['W' + str(l)] = np.random.randn(layer_dims[l],layer_dims[l-1])*0.01\n",
    "        parameters['b' + str(l)] = np.zeros((layer_dims[l],1))\n",
    "\n",
    "        \n",
    "        assert(parameters['W' + str(l)].shape == (layer_dims[l], layer_dims[l-1]))\n",
    "        assert(parameters['b' + str(l)].shape == (layer_dims[l], 1))\n",
    "\n",
    "        \n",
    "    return parameters"
   ]
  },
  {
   "cell_type": "code",
   "execution_count": 966,
   "id": "3bda5ce3",
   "metadata": {},
   "outputs": [],
   "source": [
    "def linear_forward(A, W, b):\n",
    "    \n",
    "    Z = np.dot(W,A)+b\n",
    "    \n",
    "    assert(Z.shape == (W.shape[0], A.shape[1]))\n",
    "    cache = (A, W, b)\n",
    "    \n",
    "    return Z, cache"
   ]
  },
  {
   "cell_type": "code",
   "execution_count": 967,
   "id": "5fa89e2d",
   "metadata": {},
   "outputs": [],
   "source": [
    "def linear_activation_forward(A_prev, W, b, activation):\n",
    "    \n",
    "    if activation == \"sigmoid\":\n",
    "        # Inputs: \"A_prev, W, b\". Outputs: \"A, activation_cache\".\n",
    "        Z, linear_cache = linear_forward(A_prev, W, b)\n",
    "        A, activation_cache = sigmoid(Z)\n",
    "    \n",
    "    elif activation == \"relu\":\n",
    "        # Inputs: \"A_prev, W, b\". Outputs: \"A, activation_cache\".\n",
    "        Z, linear_cache = linear_forward(A_prev, W, b)\n",
    "        A, activation_cache = relu(Z)\n",
    "    \n",
    "    assert (A.shape == (W.shape[0], A_prev.shape[1]))\n",
    "    cache = (linear_cache, activation_cache)\n",
    "\n",
    "    return A, cache"
   ]
  },
  {
   "cell_type": "code",
   "execution_count": 968,
   "id": "61a13c78",
   "metadata": {},
   "outputs": [],
   "source": [
    "def L_model_forward(X, parameters):\n",
    "\n",
    "    caches = []\n",
    "    A = X\n",
    "    L = len(parameters) // 2                  # number of layers in the neural network\n",
    "    \n",
    "    # Implement [LINEAR -> RELU]*(L-1). \n",
    "    for l in range(1, L):\n",
    "        A_prev = A \n",
    "        A, cache = linear_activation_forward(A_prev, parameters['W'+str(l)], parameters['b'+str(l)], 'relu')\n",
    "        caches.append(cache)                  # Add \"cache\" to the \"caches\" list\n",
    "    \n",
    "    # Implement LINEAR -> SIGMOID. \n",
    "    AL, cache = linear_activation_forward(A, parameters['W'+str(L)], parameters['b'+str(L)], 'sigmoid')\n",
    "    caches.append(cache)                      # Add \"cache\" to the \"caches\" list\n",
    "    \n",
    "    assert(AL.shape == (1,X.shape[1]))\n",
    "            \n",
    "    return AL, caches"
   ]
  },
  {
   "cell_type": "code",
   "execution_count": 969,
   "id": "883ca1d4",
   "metadata": {},
   "outputs": [],
   "source": [
    "def compute_cost(AL, Y):\n",
    "    \n",
    "    m = Y.shape[1]\n",
    "\n",
    "    # Compute loss from aL and y.\n",
    "    cost = -1/m*np.sum(np.multiply(np.log(AL),Y) + np.multiply(np.log(1-AL),(1-Y)))\n",
    "    \n",
    "    cost = np.squeeze(cost)      # To make sure your cost's shape is what we expect (e.g. this turns [[17]] into 17).\n",
    "    assert(cost.shape == ())\n",
    "    \n",
    "    return cost"
   ]
  },
  {
   "cell_type": "code",
   "execution_count": 970,
   "id": "4bd6a922",
   "metadata": {},
   "outputs": [],
   "source": [
    "def linear_backward(dZ, cache):\n",
    "\n",
    "    A_prev, W, b = cache\n",
    "    m = A_prev.shape[1]\n",
    "\n",
    "    dA_prev = np.dot(W.T,dZ)\n",
    "    dW = 1/m*np.dot(dZ,A_prev.T)\n",
    "    db = 1/m*np.sum(dZ,axis=1,keepdims=True)\n",
    "    \n",
    "    \n",
    "    assert (dA_prev.shape == A_prev.shape)\n",
    "    assert (dW.shape == W.shape)\n",
    "    assert (db.shape == b.shape)\n",
    "    \n",
    "    return dA_prev, dW, db"
   ]
  },
  {
   "cell_type": "code",
   "execution_count": 971,
   "id": "e208a320",
   "metadata": {},
   "outputs": [],
   "source": [
    "def linear_activation_backward(dA, cache, activation):\n",
    "\n",
    "    linear_cache, activation_cache = cache\n",
    "    \n",
    "    if activation == \"relu\":\n",
    "        dZ = relu_backward(dA, activation_cache)\n",
    "        dA_prev, dW, db = linear_backward(dZ, linear_cache)\n",
    "        \n",
    "    elif activation == \"sigmoid\":\n",
    "        dZ = sigmoid_backward(dA, activation_cache)\n",
    "        dA_prev, dW, db = linear_backward(dZ, linear_cache)\n",
    "    \n",
    "    return dA_prev, dW, db"
   ]
  },
  {
   "cell_type": "code",
   "execution_count": 972,
   "id": "df30409e",
   "metadata": {},
   "outputs": [],
   "source": [
    "def L_model_backward(AL, Y, caches):\n",
    "    \n",
    "    grads = {}\n",
    "    L = len(caches) # the number of layers\n",
    "    m = AL.shape[1]\n",
    "    Y = Y.reshape(AL.shape) # after this line, Y is the same shape as AL\n",
    "    \n",
    "    # Initializing the backpropagation\n",
    "    dAL = -(np.divide(Y,AL) - np.divide(1-Y,1-AL))\n",
    "    \n",
    "    # Lth layer (SIGMOID -> LINEAR) gradients. Inputs: \"dAL, current_cache\". Outputs: \"grads[\"dAL-1\"], grads[\"dWL\"], grads[\"dbL\"]\n",
    "    current_cache = caches[L-1]\n",
    "    grads[\"dA\" + str(L-1)], grads[\"dW\" + str(L)], grads[\"db\" + str(L)] = linear_activation_backward(dAL, current_cache,activation='sigmoid')\n",
    "\n",
    "    \n",
    "    # Loop from l=L-2 to l=0\n",
    "    for l in reversed(range(L-1)):\n",
    "        # lth layer: (RELU -> LINEAR) gradients.\n",
    "        # Inputs: \"grads[\"dA\" + str(l + 1)], current_cache\". Outputs: \"grads[\"dA\" + str(l)] , grads[\"dW\" + str(l + 1)] , grads[\"db\" + str(l + 1)] \n",
    "        current_cache = caches[l]\n",
    "        dA_prev_temp, dW_temp, db_temp = linear_activation_backward(grads[\"dA\"+str(l+1)],current_cache,activation='relu')\n",
    "        grads[\"dA\" + str(l)] = dA_prev_temp\n",
    "        grads[\"dW\" + str(l + 1)] =dW_temp\n",
    "        grads[\"db\" + str(l + 1)] = db_temp\n",
    "\n",
    "    return grads"
   ]
  },
  {
   "cell_type": "code",
   "execution_count": 973,
   "id": "d3ae6ece",
   "metadata": {},
   "outputs": [],
   "source": [
    "def update_parameters(parameters, grads, learning_rate):\n",
    "    \n",
    "    L = len(parameters) // 2 # number of layers in the neural network\n",
    "\n",
    "    # Update rule for each parameter. Use a for loop.\n",
    "    for l in range(L):\n",
    "        parameters[\"W\" + str(l+1)] = parameters[\"W\" + str(l+1)] - learning_rate*grads[\"dW\" + str(l+1)]\n",
    "        parameters[\"b\" + str(l+1)] = parameters[\"b\" + str(l+1)] - learning_rate*grads['db' + str(l+1)]\n",
    "\n",
    "    return parameters"
   ]
  },
  {
   "cell_type": "code",
   "execution_count": 974,
   "id": "8a39553b",
   "metadata": {},
   "outputs": [],
   "source": [
    "\n",
    "def L_layer_model(X, Y, layers_dims, learning_rate = 0.0075, num_iterations = 3000, print_cost=False):#lr was 0.009\n",
    "\n",
    "    np.random.seed(1)\n",
    "    costs = []                         # keep track of cost\n",
    "    \n",
    "    # Parameters initialization. (≈ 1 line of code)\n",
    "    parameters = initialize_parameters_deep(layers_dims)\n",
    "    \n",
    "    # Loop (gradient descent)\n",
    "    for i in range(0, num_iterations):\n",
    "\n",
    "        # Forward propagation: [LINEAR -> RELU]*(L-1) -> LINEAR -> SIGMOID.\n",
    "        AL, caches = L_model_forward(X, parameters)\n",
    "        \n",
    "        # Compute cost.\n",
    "        cost = compute_cost(AL, Y)\n",
    "    \n",
    "        # Backward propagation.\n",
    "        grads = L_model_backward(AL, Y, caches)\n",
    " \n",
    "        # Update parameters.\n",
    "        parameters = update_parameters(parameters, grads, learning_rate)\n",
    "                \n",
    "        # Print the cost every 100 training example\n",
    "        if print_cost and i % 100 == 0:\n",
    "            print (\"Cost after iteration %i: %f\" %(i, cost))\n",
    "        if print_cost and i % 100 == 0:\n",
    "            costs.append(cost)\n",
    "            \n",
    "    # plot the cost\n",
    "    plt.plot(np.squeeze(costs))\n",
    "    plt.ylabel('cost')\n",
    "    plt.xlabel('iterations (per hundreds)')\n",
    "    plt.title(\"Learning rate =\" + str(learning_rate))\n",
    "    plt.show()\n",
    "    \n",
    "    return parameters"
   ]
  },
  {
   "cell_type": "code",
   "execution_count": 978,
   "id": "3edb703f",
   "metadata": {},
   "outputs": [
    {
     "name": "stdout",
     "output_type": "stream",
     "text": [
      "Cost after iteration 0: 0.691373\n",
      "Cost after iteration 100: 0.664117\n",
      "Cost after iteration 200: 0.646277\n",
      "Cost after iteration 300: 0.634375\n",
      "Cost after iteration 400: 0.625097\n",
      "Cost after iteration 500: 0.617306\n",
      "Cost after iteration 600: 0.610377\n",
      "Cost after iteration 700: 0.604000\n",
      "Cost after iteration 800: 0.598030\n",
      "Cost after iteration 900: 0.592370\n",
      "Cost after iteration 1000: 0.586946\n",
      "Cost after iteration 1100: 0.581748\n",
      "Cost after iteration 1200: 0.576751\n",
      "Cost after iteration 1300: 0.571932\n",
      "Cost after iteration 1400: 0.567286\n",
      "Cost after iteration 1500: 0.562809\n",
      "Cost after iteration 1600: 0.558504\n",
      "Cost after iteration 1700: 0.554357\n",
      "Cost after iteration 1800: 0.550359\n",
      "Cost after iteration 1900: 0.546490\n",
      "Cost after iteration 2000: 0.542750\n",
      "Cost after iteration 2100: 0.539154\n",
      "Cost after iteration 2200: 0.535688\n",
      "Cost after iteration 2300: 0.532334\n",
      "Cost after iteration 2400: 0.529107\n"
     ]
    },
    {
     "data": {
      "image/png": "[encoded data removed]",
      "text/plain": [
       "<Figure size 432x288 with 1 Axes>"
      ]
     },
     "metadata": {
      "needs_background": "light"
     },
     "output_type": "display_data"
    }
   ],
   "source": [
    "parameters = L_layer_model(train_set_x, train_set_y, layers_dims,learning_rate = 0.001, num_iterations = 2500, print_cost = True)\n",
    "\n"
   ]
  },
  {
   "cell_type": "code",
   "execution_count": 979,
   "id": "23119d71",
   "metadata": {},
   "outputs": [
    {
     "name": "stdout",
     "output_type": "stream",
     "text": [
      "Accuracy: 0.7431666666666668\n"
     ]
    }
   ],
   "source": [
    "pred_train = predict(train_set_x, train_set_y, parameters)"
   ]
  },
  {
   "cell_type": "code",
   "execution_count": 980,
   "id": "36d4e8ac",
   "metadata": {},
   "outputs": [
    {
     "name": "stdout",
     "output_type": "stream",
     "text": [
      "Accuracy: 0.7115000000000002\n"
     ]
    }
   ],
   "source": [
    "pred_test = predict(validate_set_x, validation_set_y, parameters)"
   ]
  },
  {
   "cell_type": "code",
   "execution_count": 981,
   "id": "62486555",
   "metadata": {},
   "outputs": [
    {
     "name": "stdout",
     "output_type": "stream",
     "text": [
      "Cost after iteration 0: 0.691373\n",
      "Cost after iteration 100: 0.626910\n",
      "Cost after iteration 200: 0.607924\n",
      "Cost after iteration 300: 0.593417\n",
      "Cost after iteration 400: 0.581826\n",
      "Cost after iteration 500: 0.570998\n",
      "Cost after iteration 600: 0.561566\n",
      "Cost after iteration 700: 0.553818\n",
      "Cost after iteration 800: 0.545032\n",
      "Cost after iteration 900: 0.537111\n",
      "Cost after iteration 1000: 0.530538\n",
      "Cost after iteration 1100: 0.524973\n",
      "Cost after iteration 1200: 0.520356\n",
      "Cost after iteration 1300: 0.514902\n",
      "Cost after iteration 1400: 0.508743\n"
     ]
    },
    {
     "data": {
      "image/png": "[encoded data removed]",
      "text/plain": [
       "<Figure size 432x288 with 1 Axes>"
      ]
     },
     "metadata": {
      "needs_background": "light"
     },
     "output_type": "display_data"
    }
   ],
   "source": [
    "parameters = L_layer_model(train_set_x, train_set_y, layers_dims,learning_rate = 0.005, num_iterations = 1500, print_cost = True)\n"
   ]
  },
  {
   "cell_type": "code",
   "execution_count": 982,
   "id": "57cf12fb",
   "metadata": {},
   "outputs": [
    {
     "name": "stdout",
     "output_type": "stream",
     "text": [
      "Accuracy: 0.7413333333333335\n"
     ]
    }
   ],
   "source": [
    "pred_train = predict(train_set_x, train_set_y, parameters)"
   ]
  },
  {
   "cell_type": "code",
   "execution_count": 983,
   "id": "b0836289",
   "metadata": {},
   "outputs": [
    {
     "name": "stdout",
     "output_type": "stream",
     "text": [
      "Accuracy: 0.7080000000000002\n"
     ]
    }
   ],
   "source": [
    "pred_test = predict(validate_set_x, validation_set_y, parameters)"
   ]
  },
  {
   "cell_type": "code",
   "execution_count": 991,
   "id": "0b7610db",
   "metadata": {},
   "outputs": [
    {
     "name": "stdout",
     "output_type": "stream",
     "text": [
      "Cost after iteration 0: 0.691373\n",
      "Cost after iteration 100: 0.620321\n",
      "Cost after iteration 200: 0.587331\n",
      "Cost after iteration 300: 0.559305\n",
      "Cost after iteration 400: 0.534302\n",
      "Cost after iteration 500: 0.516813\n",
      "Cost after iteration 600: 0.478098\n",
      "Cost after iteration 700: 0.465091\n",
      "Cost after iteration 800: 0.456596\n",
      "Cost after iteration 900: 0.457003\n",
      "Cost after iteration 1000: 0.454774\n",
      "Cost after iteration 1100: 0.528283\n",
      "Cost after iteration 1200: 0.470452\n",
      "Cost after iteration 1300: 0.564921\n",
      "Cost after iteration 1400: 0.421342\n"
     ]
    },
    {
     "data": {
      "image/png": "[encoded data removed]",
      "text/plain": [
       "<Figure size 432x288 with 1 Axes>"
      ]
     },
     "metadata": {
      "needs_background": "light"
     },
     "output_type": "display_data"
    }
   ],
   "source": [
    "# The best model\n",
    "parameters = L_layer_model(train_set_x, train_set_y, layers_dims,learning_rate = 0.01, num_iterations = 1500, print_cost = True)\n"
   ]
  },
  {
   "cell_type": "code",
   "execution_count": 992,
   "id": "b70d2097",
   "metadata": {},
   "outputs": [
    {
     "name": "stdout",
     "output_type": "stream",
     "text": [
      "Accuracy: 0.8070000000000002\n"
     ]
    }
   ],
   "source": [
    "pred_train = predict(train_set_x, train_set_y, parameters)"
   ]
  },
  {
   "cell_type": "code",
   "execution_count": 993,
   "id": "2ac34244",
   "metadata": {},
   "outputs": [
    {
     "name": "stdout",
     "output_type": "stream",
     "text": [
      "Accuracy: 0.7685000000000002\n"
     ]
    }
   ],
   "source": [
    "pred_test = predict(validate_set_x, validation_set_y, parameters)"
   ]
  },
  {
   "cell_type": "code",
   "execution_count": 994,
   "id": "8fe5d4f5",
   "metadata": {},
   "outputs": [
    {
     "name": "stdout",
     "output_type": "stream",
     "text": [
      "Accuracy: 0.6960000000000002\n"
     ]
    }
   ],
   "source": [
    "# The best model\n",
    "pred_test = predict(test_set_x, test_set_y, parameters)"
   ]
  },
  {
   "cell_type": "code",
   "execution_count": 987,
   "id": "92200f8d",
   "metadata": {},
   "outputs": [
    {
     "name": "stdout",
     "output_type": "stream",
     "text": [
      "Cost after iteration 0: 0.691373\n",
      "Cost after iteration 100: 0.638050\n",
      "Cost after iteration 200: 0.597458\n",
      "Cost after iteration 300: 0.557397\n",
      "Cost after iteration 400: 0.646534\n",
      "Cost after iteration 500: 0.592589\n",
      "Cost after iteration 600: 0.565946\n",
      "Cost after iteration 700: 0.530075\n",
      "Cost after iteration 800: 0.566752\n",
      "Cost after iteration 900: 0.588587\n",
      "Cost after iteration 1000: 0.567982\n",
      "Cost after iteration 1100: 0.483131\n",
      "Cost after iteration 1200: 0.557572\n",
      "Cost after iteration 1300: 0.517339\n",
      "Cost after iteration 1400: 0.575033\n",
      "Cost after iteration 1500: 0.463382\n",
      "Cost after iteration 1600: 0.501303\n",
      "Cost after iteration 1700: 0.473371\n",
      "Cost after iteration 1800: 0.444258\n",
      "Cost after iteration 1900: 0.565720\n"
     ]
    },
    {
     "data": {
      "image/png": "[encoded data removed]",
      "text/plain": [
       "<Figure size 432x288 with 1 Axes>"
      ]
     },
     "metadata": {
      "needs_background": "light"
     },
     "output_type": "display_data"
    }
   ],
   "source": [
    "parameters = L_layer_model(train_set_x, train_set_y, layers_dims,learning_rate = 0.05, num_iterations = 1900, print_cost = True)\n"
   ]
  },
  {
   "cell_type": "code",
   "execution_count": 988,
   "id": "2bb240c6",
   "metadata": {},
   "outputs": [
    {
     "name": "stdout",
     "output_type": "stream",
     "text": [
      "Accuracy: 0.7240000000000002\n"
     ]
    }
   ],
   "source": [
    "pred_train = predict(train_set_x, train_set_y, parameters)"
   ]
  },
  {
   "cell_type": "code",
   "execution_count": 989,
   "id": "9fe31238",
   "metadata": {},
   "outputs": [
    {
     "name": "stdout",
     "output_type": "stream",
     "text": [
      "Accuracy: 0.7120000000000002\n"
     ]
    }
   ],
   "source": [
    "pred_test = predict(validate_set_x, validation_set_y, parameters)"
   ]
  },
  {
   "cell_type": "code",
   "execution_count": 990,
   "id": "f86e9160",
   "metadata": {},
   "outputs": [
    {
     "name": "stdout",
     "output_type": "stream",
     "text": [
      "Accuracy: 0.6570000000000001\n"
     ]
    }
   ],
   "source": [
    "pred_test = predict(test_set_x, test_set_y, parameters)"
   ]
  }
 ],
 "metadata": {
  "kernelspec": {
   "display_name": "Python 3 (ipykernel)",
   "language": "python",
   "name": "python3"
  },
  "language_info": {
   "codemirror_mode": {
    "name": "ipython",
    "version": 3
   },
   "file_extension": ".py",
   "mimetype": "text/x-python",
   "name": "python",
   "nbconvert_exporter": "python",
   "pygments_lexer": "ipython3",
   "version": "3.9.7"
  }
 },
 "nbformat": 4,
 "nbformat_minor": 5
}
